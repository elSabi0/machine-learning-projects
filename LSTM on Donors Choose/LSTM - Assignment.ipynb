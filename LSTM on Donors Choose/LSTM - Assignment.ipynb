{
 "cells": [
  {
   "cell_type": "markdown",
   "metadata": {},
   "source": [
    "## Assignment : 14"
   ]
  },
  {
   "cell_type": "markdown",
   "metadata": {},
   "source": [
    "<pre>\n",
    "1. Preprocess all the Data we have in DonorsChoose <a href='https://drive.google.com/drive/folders/1MIwK7BQMev8f5CbDDVNLPaFGB32pFN60'>Dataset</a> use train.csv\n",
    "2. Combine 4 essay's into one column named - 'preprocessed_essays'. \n",
    "3. After step 2 you have to train 3 types of models as discussed below. \n",
    "4. For all the model use <a href='https://scikit-learn.org/stable/modules/model_evaluation.html#roc-metrics'>'auc'</a> as a metric. check <a href='https://datascience.stackexchange.com/a/20192'>this</a> for using auc as a metric \n",
    "5. You are free to choose any number of layers/hiddden units but you have to use same type of architectures shown below. \n",
    "6. You can use any one of the optimizers and choice of Learning rate and momentum, resources: <a href='http://cs231n.github.io/neural-networks-3/'>cs231n class notes</a>, <a href='https://www.youtube.com/watch?v=hd_KFJ5ktUc'>cs231n class video</a>. \n",
    "7. For all the model's use <a href='https://www.youtube.com/watch?v=2U6Jl7oqRkM'>TensorBoard</a> and plot the Metric value and Loss with epoch. While submitting, take a screenshot of plots and include those images in .ipynb notebook and PDF. \n",
    "8. Use Categorical Cross Entropy as Loss to minimize.\n",
    "</pre>"
   ]
  },
  {
   "cell_type": "markdown",
   "metadata": {},
   "source": [
    "### Model-1\n",
    "\n",
    "Build and Train deep neural network as shown below"
   ]
  },
  {
   "cell_type": "markdown",
   "metadata": {},
   "source": [
    "<img src='https://i.imgur.com/w395Yk9.png'>\n",
    "ref: https://i.imgur.com/w395Yk9.png"
   ]
  },
  {
   "cell_type": "markdown",
   "metadata": {},
   "source": [
    "- __Input_seq_total_text_data__ --- You have to give Total text data columns. After this use the Embedding layer to get word vectors. Use given predefined glove word vectors, don't train any word vectors. After this use LSTM and get the LSTM output and Flatten that output. \n",
    "- __Input_school_state__ --- Give 'school_state' column as input to embedding layer and Train the Keras Embedding layer. \n",
    "- __Project_grade_category__  --- Give 'project_grade_category' column as input to embedding layer and Train the Keras Embedding layer.\n",
    "- __Input_clean_categories__ --- Give 'input_clean_categories' column as input to embedding layer and Train the Keras Embedding layer.\n",
    "- __Input_clean_subcategories__ --- Give 'input_clean_subcategories' column as input to embedding layer and Train the Keras Embedding layer.\n",
    "- __Input_clean_subcategories__ --- Give 'input_teacher_prefix' column as input to embedding layer and Train the Keras Embedding layer.\n",
    "- __Input_remaining_teacher_number_of_previously_posted_projects._resource_summary_contains_numerical_digits._price._quantity__ ---concatenate remaining columns and add a Dense layer after that. \n",
    "\n"
   ]
  },
  {
   "cell_type": "markdown",
   "metadata": {},
   "source": [
    "- For LSTM, you can choose your sequence padding methods on your own or you can train your LSTM without padding, there is no restriction on that."
   ]
  },
  {
   "cell_type": "markdown",
   "metadata": {},
   "source": [
    "Below is an example of embedding layer for a categorical columns. In below code all are dummy values, we gave only for referance. "
   ]
  },
  {
   "cell_type": "code",
   "execution_count": null,
   "metadata": {},
   "outputs": [],
   "source": [
    "# https://stats.stackexchange.com/questions/270546/how-does-keras-embedding-layer-work\n",
    "input_layer = Input(shape=(n,))\n",
    "embedding = Embedding(no_1, no_2, input_length=n)(input_layer)\n",
    "flatten = Flatten()(embedding)"
   ]
  },
  {
   "cell_type": "markdown",
   "metadata": {},
   "source": [
    "### 1. Go through this blog, if you have any doubt on using predefined Embedding values in Embedding layer - https://machinelearningmastery.com/use-word-embedding-layers-deep-learning-keras/\n",
    "### 2. Please go through this link https://keras.io/getting-started/functional-api-guide/ and check the 'Multi-input and multi-output models' then you will get to know how to give multiple inputs. "
   ]
  },
  {
   "cell_type": "markdown",
   "metadata": {},
   "source": [
    "### Model-2"
   ]
  },
  {
   "cell_type": "markdown",
   "metadata": {},
   "source": [
    "Use the same model as above but for 'input_seq_total_text_data' give only some words in the sentance not all the words. Filter the words as below. "
   ]
  },
  {
   "cell_type": "markdown",
   "metadata": {},
   "source": [
    "<pre>\n",
    "1. Train the TF-IDF on the Train data <br>\n",
    "2. Get the idf value for each word we have in the train data. <br>\n",
    "3. Remove the low idf value and high idf value words from our data. Do some analysis on the Idf values and based on those values choose the low and high threshold value. Because very frequent words and very very rare words don't give much information. (you can plot a box plots and take only the idf scores within IQR range and corresponding words)<br>\n",
    "4. Train the LSTM after removing the Low and High idf value words. (In model-1 Train on total data but in Model-2 train on data after removing some words based on IDF values)\n",
    "</pre>"
   ]
  },
  {
   "cell_type": "markdown",
   "metadata": {},
   "source": [
    "### Model-3"
   ]
  },
  {
   "cell_type": "markdown",
   "metadata": {},
   "source": [
    "<img src='https://i.imgur.com/fkQ8nGo.png'>\n",
    "ref: https://i.imgur.com/fkQ8nGo.png"
   ]
  },
  {
   "cell_type": "markdown",
   "metadata": {},
   "source": [
    "\n",
    "- __input_seq_total_text_data__: <br>\n",
    "<pre>\n",
    "    . Use text column('essay'), and use the Embedding layer to get word vectors. <br>\n",
    "    . Use given predefined glove word vectors, don't train any word vectors. <br>\n",
    "    . Use LSTM that is given above, get the LSTM output and Flatten that output. <br>\n",
    "    . You are free to preprocess the input text as you needed. <br>\n",
    "</pre>\n",
    "- __Other_than_text_data__:<br>\n",
    "<pre>\n",
    "    . Convert all your Categorical values to onehot coded and then concatenate all these onehot vectors <br>\n",
    "    . Neumerical values and use <a href='https://keras.io/getting-started/sequential-model-guide/#sequence-classification-with-1d-convolutions'>CNN1D</a> as shown in above figure. <br>\n",
    "    . You are free to choose all CNN parameters like kernel sizes, stride.<br>\n",
    "    \n",
    "</pre>"
   ]
  },
  {
   "cell_type": "code",
   "execution_count": null,
   "metadata": {},
   "outputs": [],
   "source": []
  },
  {
   "cell_type": "markdown",
   "metadata": {},
   "source": [
    "# Assignment:"
   ]
  },
  {
   "cell_type": "code",
   "execution_count": 1,
   "metadata": {},
   "outputs": [],
   "source": [
    "%matplotlib inline\n",
    "import warnings\n",
    "warnings.filterwarnings(\"ignore\")\n",
    "\n",
    "import pandas as pd\n",
    "import numpy as np\n",
    "from sklearn.feature_extraction.text import TfidfVectorizer\n",
    "from sklearn.feature_extraction.text import CountVectorizer\n",
    "import matplotlib.pyplot as plt\n",
    "from scipy.sparse import hstack\n",
    "\n",
    "import re\n",
    "# Tutorial about Python regular expressions: https://pymotw.com/2/re/\n",
    "\n",
    "from nltk.corpus import stopwords\n",
    "import pickle\n",
    "\n",
    "from tqdm import tqdm\n",
    "import os"
   ]
  },
  {
   "cell_type": "markdown",
   "metadata": {},
   "source": [
    "## Reading data"
   ]
  },
  {
   "cell_type": "code",
   "execution_count": 2,
   "metadata": {},
   "outputs": [],
   "source": [
    "project_data = pd.read_csv('new_train.csv', nrows=5000)\n",
    "resource_data = pd.read_csv('resources.csv')"
   ]
  },
  {
   "cell_type": "code",
   "execution_count": 3,
   "metadata": {},
   "outputs": [
    {
     "name": "stdout",
     "output_type": "stream",
     "text": [
      "Number of data points in train data (5000, 21)\n",
      "--------------------------------------------------\n",
      "The attributes of data : ['Unnamed: 0' 'id' 'teacher_id' 'teacher_prefix' 'school_state'\n",
      " 'project_submitted_datetime' 'project_grade_category' 'project_title'\n",
      " 'project_essay_1' 'project_essay_2' 'project_essay_3' 'project_essay_4'\n",
      " 'project_resource_summary' 'teacher_number_of_previously_posted_projects'\n",
      " 'project_is_approved' 'clean_categories' 'clean_subcategories' 'essay'\n",
      " 'price' 'quantity' 'is_digit_present']\n"
     ]
    }
   ],
   "source": [
    "print(\"Number of data points in train data\", project_data.shape)\n",
    "print('-'*50)\n",
    "print(\"The attributes of data :\", project_data.columns.values)"
   ]
  },
  {
   "cell_type": "code",
   "execution_count": 4,
   "metadata": {},
   "outputs": [
    {
     "data": {
      "text/html": [
       "<div>\n",
       "<style scoped>\n",
       "    .dataframe tbody tr th:only-of-type {\n",
       "        vertical-align: middle;\n",
       "    }\n",
       "\n",
       "    .dataframe tbody tr th {\n",
       "        vertical-align: top;\n",
       "    }\n",
       "\n",
       "    .dataframe thead th {\n",
       "        text-align: right;\n",
       "    }\n",
       "</style>\n",
       "<table border=\"1\" class=\"dataframe\">\n",
       "  <thead>\n",
       "    <tr style=\"text-align: right;\">\n",
       "      <th></th>\n",
       "      <th>Unnamed: 0</th>\n",
       "      <th>id</th>\n",
       "      <th>teacher_id</th>\n",
       "      <th>teacher_prefix</th>\n",
       "      <th>school_state</th>\n",
       "      <th>project_submitted_datetime</th>\n",
       "      <th>project_grade_category</th>\n",
       "      <th>project_title</th>\n",
       "      <th>project_essay_1</th>\n",
       "      <th>project_essay_2</th>\n",
       "      <th>...</th>\n",
       "      <th>project_essay_4</th>\n",
       "      <th>project_resource_summary</th>\n",
       "      <th>teacher_number_of_previously_posted_projects</th>\n",
       "      <th>project_is_approved</th>\n",
       "      <th>clean_categories</th>\n",
       "      <th>clean_subcategories</th>\n",
       "      <th>essay</th>\n",
       "      <th>price</th>\n",
       "      <th>quantity</th>\n",
       "      <th>is_digit_present</th>\n",
       "    </tr>\n",
       "  </thead>\n",
       "  <tbody>\n",
       "    <tr>\n",
       "      <th>0</th>\n",
       "      <td>160221</td>\n",
       "      <td>p253737</td>\n",
       "      <td>c90749f5d961ff158d4b4d1e7dc665fc</td>\n",
       "      <td>Mrs.</td>\n",
       "      <td>IN</td>\n",
       "      <td>2016-12-05 13:43:57</td>\n",
       "      <td>Grades PreK-2</td>\n",
       "      <td>Educational Support for English Learners at Home</td>\n",
       "      <td>My students are English learners that are work...</td>\n",
       "      <td>\\\"The limits of your language are the limits o...</td>\n",
       "      <td>...</td>\n",
       "      <td>NaN</td>\n",
       "      <td>My students need opportunities to practice beg...</td>\n",
       "      <td>0</td>\n",
       "      <td>0</td>\n",
       "      <td>Literacy_Language</td>\n",
       "      <td>ESL Literacy</td>\n",
       "      <td>My students are English learners that are work...</td>\n",
       "      <td>154.6</td>\n",
       "      <td>23</td>\n",
       "      <td>0</td>\n",
       "    </tr>\n",
       "    <tr>\n",
       "      <th>1</th>\n",
       "      <td>140945</td>\n",
       "      <td>p258326</td>\n",
       "      <td>897464ce9ddc600bced1151f324dd63a</td>\n",
       "      <td>Mr.</td>\n",
       "      <td>FL</td>\n",
       "      <td>2016-10-25 09:22:10</td>\n",
       "      <td>Grades 6-8</td>\n",
       "      <td>Wanted: Projector for Hungry Learners</td>\n",
       "      <td>Our students arrive to our school eager to lea...</td>\n",
       "      <td>The projector we need for our school is very c...</td>\n",
       "      <td>...</td>\n",
       "      <td>NaN</td>\n",
       "      <td>My students need a projector to help with view...</td>\n",
       "      <td>7</td>\n",
       "      <td>1</td>\n",
       "      <td>History_Civics Health_Sports</td>\n",
       "      <td>Civics_Government TeamSports</td>\n",
       "      <td>Our students arrive to our school eager to lea...</td>\n",
       "      <td>299.0</td>\n",
       "      <td>1</td>\n",
       "      <td>0</td>\n",
       "    </tr>\n",
       "  </tbody>\n",
       "</table>\n",
       "<p>2 rows × 21 columns</p>\n",
       "</div>"
      ],
      "text/plain": [
       "   Unnamed: 0       id                        teacher_id teacher_prefix  \\\n",
       "0      160221  p253737  c90749f5d961ff158d4b4d1e7dc665fc           Mrs.   \n",
       "1      140945  p258326  897464ce9ddc600bced1151f324dd63a            Mr.   \n",
       "\n",
       "  school_state project_submitted_datetime project_grade_category  \\\n",
       "0           IN        2016-12-05 13:43:57          Grades PreK-2   \n",
       "1           FL        2016-10-25 09:22:10             Grades 6-8   \n",
       "\n",
       "                                      project_title  \\\n",
       "0  Educational Support for English Learners at Home   \n",
       "1             Wanted: Projector for Hungry Learners   \n",
       "\n",
       "                                     project_essay_1  \\\n",
       "0  My students are English learners that are work...   \n",
       "1  Our students arrive to our school eager to lea...   \n",
       "\n",
       "                                     project_essay_2        ...         \\\n",
       "0  \\\"The limits of your language are the limits o...        ...          \n",
       "1  The projector we need for our school is very c...        ...          \n",
       "\n",
       "  project_essay_4                           project_resource_summary  \\\n",
       "0             NaN  My students need opportunities to practice beg...   \n",
       "1             NaN  My students need a projector to help with view...   \n",
       "\n",
       "  teacher_number_of_previously_posted_projects  project_is_approved  \\\n",
       "0                                            0                    0   \n",
       "1                                            7                    1   \n",
       "\n",
       "               clean_categories           clean_subcategories  \\\n",
       "0             Literacy_Language                  ESL Literacy   \n",
       "1  History_Civics Health_Sports  Civics_Government TeamSports   \n",
       "\n",
       "                                               essay  price  quantity  \\\n",
       "0  My students are English learners that are work...  154.6        23   \n",
       "1  Our students arrive to our school eager to lea...  299.0         1   \n",
       "\n",
       "   is_digit_present  \n",
       "0                 0  \n",
       "1                 0  \n",
       "\n",
       "[2 rows x 21 columns]"
      ]
     },
     "execution_count": 4,
     "metadata": {},
     "output_type": "execute_result"
    }
   ],
   "source": [
    "project_data.head(2)"
   ]
  },
  {
   "cell_type": "code",
   "execution_count": 5,
   "metadata": {},
   "outputs": [
    {
     "name": "stdout",
     "output_type": "stream",
     "text": [
      "Number of data points in resource data (1541272, 4)\n",
      "['id' 'description' 'quantity' 'price']\n"
     ]
    },
    {
     "data": {
      "text/html": [
       "<div>\n",
       "<style scoped>\n",
       "    .dataframe tbody tr th:only-of-type {\n",
       "        vertical-align: middle;\n",
       "    }\n",
       "\n",
       "    .dataframe tbody tr th {\n",
       "        vertical-align: top;\n",
       "    }\n",
       "\n",
       "    .dataframe thead th {\n",
       "        text-align: right;\n",
       "    }\n",
       "</style>\n",
       "<table border=\"1\" class=\"dataframe\">\n",
       "  <thead>\n",
       "    <tr style=\"text-align: right;\">\n",
       "      <th></th>\n",
       "      <th>id</th>\n",
       "      <th>description</th>\n",
       "      <th>quantity</th>\n",
       "      <th>price</th>\n",
       "    </tr>\n",
       "  </thead>\n",
       "  <tbody>\n",
       "    <tr>\n",
       "      <th>0</th>\n",
       "      <td>p233245</td>\n",
       "      <td>LC652 - Lakeshore Double-Space Mobile Drying Rack</td>\n",
       "      <td>1</td>\n",
       "      <td>149.00</td>\n",
       "    </tr>\n",
       "    <tr>\n",
       "      <th>1</th>\n",
       "      <td>p069063</td>\n",
       "      <td>Bouncy Bands for Desks (Blue support pipes)</td>\n",
       "      <td>3</td>\n",
       "      <td>14.95</td>\n",
       "    </tr>\n",
       "  </tbody>\n",
       "</table>\n",
       "</div>"
      ],
      "text/plain": [
       "        id                                        description  quantity  \\\n",
       "0  p233245  LC652 - Lakeshore Double-Space Mobile Drying Rack         1   \n",
       "1  p069063        Bouncy Bands for Desks (Blue support pipes)         3   \n",
       "\n",
       "    price  \n",
       "0  149.00  \n",
       "1   14.95  "
      ]
     },
     "execution_count": 5,
     "metadata": {},
     "output_type": "execute_result"
    }
   ],
   "source": [
    "print(\"Number of data points in resource data\", resource_data.shape)\n",
    "print(resource_data.columns.values)\n",
    "resource_data.head(2)"
   ]
  },
  {
   "cell_type": "code",
   "execution_count": 6,
   "metadata": {},
   "outputs": [],
   "source": [
    "x = project_data.drop(['project_is_approved','project_essay_1','project_essay_2','project_essay_3','project_essay_4'], axis=1)\n",
    "y = project_data['project_is_approved'].values"
   ]
  },
  {
   "cell_type": "code",
   "execution_count": 7,
   "metadata": {},
   "outputs": [
    {
     "data": {
      "text/plain": [
       "(5000, 16)"
      ]
     },
     "execution_count": 7,
     "metadata": {},
     "output_type": "execute_result"
    }
   ],
   "source": [
    "x.shape"
   ]
  },
  {
   "cell_type": "code",
   "execution_count": 8,
   "metadata": {},
   "outputs": [
    {
     "data": {
      "text/plain": [
       "(5000,)"
      ]
     },
     "execution_count": 8,
     "metadata": {},
     "output_type": "execute_result"
    }
   ],
   "source": [
    "y.shape"
   ]
  },
  {
   "cell_type": "markdown",
   "metadata": {},
   "source": [
    "## Splitting Data"
   ]
  },
  {
   "cell_type": "code",
   "execution_count": 9,
   "metadata": {},
   "outputs": [],
   "source": [
    "from sklearn.model_selection import train_test_split \n",
    "x_train, x_test, y_train, y_test = train_test_split(x, y, test_size=0.2, random_state=42)\n",
    "x_train, x_cv, y_train, y_cv = train_test_split(x_train, y_train, test_size=0.2, random_state=42)    "
   ]
  },
  {
   "cell_type": "code",
   "execution_count": 10,
   "metadata": {},
   "outputs": [
    {
     "name": "stdout",
     "output_type": "stream",
     "text": [
      "(3200, 16)\n",
      "(800, 16)\n",
      "(1000, 16)\n"
     ]
    }
   ],
   "source": [
    "print(x_train.shape)\n",
    "print(x_cv.shape)\n",
    "print(x_test.shape)"
   ]
  },
  {
   "cell_type": "markdown",
   "metadata": {},
   "source": [
    "## Model 1:"
   ]
  },
  {
   "cell_type": "code",
   "execution_count": null,
   "metadata": {},
   "outputs": [],
   "source": []
  },
  {
   "cell_type": "code",
   "execution_count": 11,
   "metadata": {
    "scrolled": true
   },
   "outputs": [
    {
     "name": "stderr",
     "output_type": "stream",
     "text": [
      "Using TensorFlow backend.\n"
     ]
    }
   ],
   "source": [
    "from keras.layers import Input, Embedding, LSTM, Dense, Flatten, Dropout\n",
    "from keras.models import Model\n",
    "from keras.layers.merge import concatenate\n",
    "from keras.preprocessing.text import one_hot\n",
    "from keras.preprocessing.sequence import pad_sequences\n",
    "from keras.preprocessing.text import Tokenizer\n",
    "from sklearn.preprocessing import LabelEncoder\n",
    "from numpy import asarray, zeros\n",
    "from keras.callbacks import EarlyStopping\n",
    "from sklearn.preprocessing import OneHotEncoder\n",
    "from keras.layers import Conv1D"
   ]
  },
  {
   "cell_type": "markdown",
   "metadata": {},
   "source": [
    "## Tokenizer"
   ]
  },
  {
   "cell_type": "markdown",
   "metadata": {},
   "source": [
    "for essay"
   ]
  },
  {
   "cell_type": "code",
   "execution_count": 12,
   "metadata": {},
   "outputs": [
    {
     "data": {
      "text/html": [
       "<div>\n",
       "<style scoped>\n",
       "    .dataframe tbody tr th:only-of-type {\n",
       "        vertical-align: middle;\n",
       "    }\n",
       "\n",
       "    .dataframe tbody tr th {\n",
       "        vertical-align: top;\n",
       "    }\n",
       "\n",
       "    .dataframe thead th {\n",
       "        text-align: right;\n",
       "    }\n",
       "</style>\n",
       "<table border=\"1\" class=\"dataframe\">\n",
       "  <thead>\n",
       "    <tr style=\"text-align: right;\">\n",
       "      <th></th>\n",
       "      <th>Unnamed: 0</th>\n",
       "      <th>id</th>\n",
       "      <th>teacher_id</th>\n",
       "      <th>teacher_prefix</th>\n",
       "      <th>school_state</th>\n",
       "      <th>project_submitted_datetime</th>\n",
       "      <th>project_grade_category</th>\n",
       "      <th>project_title</th>\n",
       "      <th>project_resource_summary</th>\n",
       "      <th>teacher_number_of_previously_posted_projects</th>\n",
       "      <th>clean_categories</th>\n",
       "      <th>clean_subcategories</th>\n",
       "      <th>essay</th>\n",
       "      <th>price</th>\n",
       "      <th>quantity</th>\n",
       "      <th>is_digit_present</th>\n",
       "    </tr>\n",
       "  </thead>\n",
       "  <tbody>\n",
       "    <tr>\n",
       "      <th>3444</th>\n",
       "      <td>175252</td>\n",
       "      <td>p248801</td>\n",
       "      <td>400f8750770107cdbb9bfbcf852a72ea</td>\n",
       "      <td>Ms.</td>\n",
       "      <td>AZ</td>\n",
       "      <td>2016-10-13 16:19:56</td>\n",
       "      <td>Grades PreK-2</td>\n",
       "      <td>Painting With a Purpose</td>\n",
       "      <td>My students need an art easel and some dot mar...</td>\n",
       "      <td>3</td>\n",
       "      <td>SpecialNeeds Music_Arts</td>\n",
       "      <td>SpecialNeeds VisualArts</td>\n",
       "      <td>Our students come from a variety of different ...</td>\n",
       "      <td>188.24</td>\n",
       "      <td>2</td>\n",
       "      <td>0</td>\n",
       "    </tr>\n",
       "    <tr>\n",
       "      <th>2063</th>\n",
       "      <td>136561</td>\n",
       "      <td>p141074</td>\n",
       "      <td>551e854422dccca4adc92781d8bd4e4a</td>\n",
       "      <td>Mrs.</td>\n",
       "      <td>PA</td>\n",
       "      <td>2016-08-03 08:47:25</td>\n",
       "      <td>Grades 3-5</td>\n",
       "      <td>Big Brain Benefits</td>\n",
       "      <td>My students need 21 chess sets to have the too...</td>\n",
       "      <td>1</td>\n",
       "      <td>Literacy_Language Math_Science</td>\n",
       "      <td>Literacy Mathematics</td>\n",
       "      <td>Of all the students in our public schools it m...</td>\n",
       "      <td>9.31</td>\n",
       "      <td>21</td>\n",
       "      <td>1</td>\n",
       "    </tr>\n",
       "  </tbody>\n",
       "</table>\n",
       "</div>"
      ],
      "text/plain": [
       "      Unnamed: 0       id                        teacher_id teacher_prefix  \\\n",
       "3444      175252  p248801  400f8750770107cdbb9bfbcf852a72ea            Ms.   \n",
       "2063      136561  p141074  551e854422dccca4adc92781d8bd4e4a           Mrs.   \n",
       "\n",
       "     school_state project_submitted_datetime project_grade_category  \\\n",
       "3444           AZ        2016-10-13 16:19:56          Grades PreK-2   \n",
       "2063           PA        2016-08-03 08:47:25             Grades 3-5   \n",
       "\n",
       "                project_title  \\\n",
       "3444  Painting With a Purpose   \n",
       "2063       Big Brain Benefits   \n",
       "\n",
       "                               project_resource_summary  \\\n",
       "3444  My students need an art easel and some dot mar...   \n",
       "2063  My students need 21 chess sets to have the too...   \n",
       "\n",
       "      teacher_number_of_previously_posted_projects  \\\n",
       "3444                                             3   \n",
       "2063                                             1   \n",
       "\n",
       "                    clean_categories      clean_subcategories  \\\n",
       "3444         SpecialNeeds Music_Arts  SpecialNeeds VisualArts   \n",
       "2063  Literacy_Language Math_Science     Literacy Mathematics   \n",
       "\n",
       "                                                  essay   price  quantity  \\\n",
       "3444  Our students come from a variety of different ...  188.24         2   \n",
       "2063  Of all the students in our public schools it m...    9.31        21   \n",
       "\n",
       "      is_digit_present  \n",
       "3444                 0  \n",
       "2063                 1  "
      ]
     },
     "execution_count": 12,
     "metadata": {},
     "output_type": "execute_result"
    }
   ],
   "source": [
    "x_train.head(2)"
   ]
  },
  {
   "cell_type": "code",
   "execution_count": 161,
   "metadata": {},
   "outputs": [],
   "source": [
    "t = Tokenizer()\n",
    "t.fit_on_texts(x_train['essay'])\n",
    "vocab_size   = len(t.word_index) + 1\n",
    "encoded_train_essay = t.texts_to_sequences(x_train['essay'])"
   ]
  },
  {
   "cell_type": "code",
   "execution_count": 162,
   "metadata": {},
   "outputs": [
    {
     "data": {
      "text/plain": [
       "3200"
      ]
     },
     "execution_count": 162,
     "metadata": {},
     "output_type": "execute_result"
    }
   ],
   "source": [
    "len(encoded_train_essay)"
   ]
  },
  {
   "cell_type": "code",
   "execution_count": 163,
   "metadata": {},
   "outputs": [],
   "source": [
    "encoded_cv_essay   = t.texts_to_sequences(x_cv['essay'])\n",
    "encoded_test_essay = t.texts_to_sequences(x_test['essay'])"
   ]
  },
  {
   "cell_type": "code",
   "execution_count": 164,
   "metadata": {},
   "outputs": [
    {
     "data": {
      "text/plain": [
       "1000"
      ]
     },
     "execution_count": 164,
     "metadata": {},
     "output_type": "execute_result"
    }
   ],
   "source": [
    "len(encoded_test_essay)"
   ]
  },
  {
   "cell_type": "markdown",
   "metadata": {},
   "source": [
    "### Encoding categorical features"
   ]
  },
  {
   "cell_type": "code",
   "execution_count": 17,
   "metadata": {
    "scrolled": true
   },
   "outputs": [
    {
     "data": {
      "text/plain": [
       "Unnamed: 0                                      False\n",
       "id                                              False\n",
       "teacher_id                                      False\n",
       "teacher_prefix                                  False\n",
       "school_state                                    False\n",
       "project_submitted_datetime                      False\n",
       "project_grade_category                          False\n",
       "project_title                                   False\n",
       "project_resource_summary                        False\n",
       "teacher_number_of_previously_posted_projects    False\n",
       "clean_categories                                False\n",
       "clean_subcategories                             False\n",
       "essay                                           False\n",
       "price                                           False\n",
       "quantity                                        False\n",
       "is_digit_present                                False\n",
       "dtype: bool"
      ]
     },
     "execution_count": 17,
     "metadata": {},
     "output_type": "execute_result"
    }
   ],
   "source": [
    "x_train.isnull().any()"
   ]
  },
  {
   "cell_type": "markdown",
   "metadata": {},
   "source": [
    "Here we confirmed before encoding that there are no null values in any column of our dataframe so now we can do the encoding."
   ]
  },
  {
   "cell_type": "code",
   "execution_count": 18,
   "metadata": {},
   "outputs": [],
   "source": [
    "# encoding categorical features using label encoder ------> https://towardsdatascience.com/encoding-categorical-features-21a2651a065c\n",
    "\n",
    "le = LabelEncoder()"
   ]
  },
  {
   "cell_type": "markdown",
   "metadata": {},
   "source": [
    "#### Encoding School State"
   ]
  },
  {
   "cell_type": "code",
   "execution_count": 19,
   "metadata": {},
   "outputs": [
    {
     "name": "stdout",
     "output_type": "stream",
     "text": [
      "Number of Distinct classes in school_state:  51\n"
     ]
    }
   ],
   "source": [
    "x_train['school_state'] = le.fit_transform(x_train['school_state'])\n",
    "print(\"Number of Distinct classes in school_state: \",len(le.classes_))\n",
    "x_cv['school_state']    = le.fit_transform(x_cv['school_state'])\n",
    "#print(le.classes_)\n",
    "x_test['school_state']  = le.fit_transform(x_test['school_state'])\n",
    "#print(le.classes_)"
   ]
  },
  {
   "cell_type": "markdown",
   "metadata": {},
   "source": [
    "#### Encoding Grage category"
   ]
  },
  {
   "cell_type": "code",
   "execution_count": 20,
   "metadata": {},
   "outputs": [
    {
     "name": "stdout",
     "output_type": "stream",
     "text": [
      "Number of Distinct classes in project_grade_categories:  4\n"
     ]
    }
   ],
   "source": [
    "x_train['project_grade_category'] = le.fit_transform(x_train['project_grade_category'])\n",
    "print(\"Number of Distinct classes in project_grade_categories: \",len(le.classes_))\n",
    "x_cv['project_grade_category']    = le.fit_transform(x_cv['project_grade_category'])\n",
    "x_test['project_grade_category']  = le.fit_transform(x_test['project_grade_category'])"
   ]
  },
  {
   "cell_type": "markdown",
   "metadata": {},
   "source": [
    "#### Encoding Clean category"
   ]
  },
  {
   "cell_type": "code",
   "execution_count": 21,
   "metadata": {},
   "outputs": [
    {
     "name": "stdout",
     "output_type": "stream",
     "text": [
      "Number of Distinct classes in clean_categories:  45\n"
     ]
    }
   ],
   "source": [
    "x_train['clean_categories'] = le.fit_transform(x_train['clean_categories'])\n",
    "print(\"Number of Distinct classes in clean_categories: \",len(le.classes_))\n",
    "x_cv['clean_categories']    = le.fit_transform(x_cv['clean_categories'])\n",
    "x_test['clean_categories']  = le.fit_transform(x_test['clean_categories'])"
   ]
  },
  {
   "cell_type": "markdown",
   "metadata": {},
   "source": [
    "#### Encoding Clean sub-category"
   ]
  },
  {
   "cell_type": "code",
   "execution_count": 22,
   "metadata": {},
   "outputs": [
    {
     "name": "stdout",
     "output_type": "stream",
     "text": [
      "Number of Distinct classes in clean_subcategories:  219\n"
     ]
    }
   ],
   "source": [
    "x_train['clean_subcategories'] = le.fit_transform(x_train['clean_subcategories'])\n",
    "print(\"Number of Distinct classes in clean_subcategories: \",len(le.classes_))\n",
    "x_cv['clean_subcategories']    = le.fit_transform(x_cv['clean_subcategories'])\n",
    "x_test['clean_subcategories']  = le.fit_transform(x_test['clean_subcategories'])"
   ]
  },
  {
   "cell_type": "markdown",
   "metadata": {},
   "source": [
    "#### Encoding Teacher prefix"
   ]
  },
  {
   "cell_type": "code",
   "execution_count": 23,
   "metadata": {},
   "outputs": [
    {
     "name": "stdout",
     "output_type": "stream",
     "text": [
      "Number of Distinct classes in teacher_prefix:  4\n"
     ]
    }
   ],
   "source": [
    "x_train['teacher_prefix'] = le.fit_transform(x_train['teacher_prefix'])\n",
    "print(\"Number of Distinct classes in teacher_prefix: \",len(le.classes_))\n",
    "x_cv['teacher_prefix']    = le.fit_transform(x_cv['teacher_prefix'])\n",
    "x_test['teacher_prefix']  = le.fit_transform(x_test['teacher_prefix'])"
   ]
  },
  {
   "cell_type": "markdown",
   "metadata": {},
   "source": [
    "#### Encoding Remaining columns"
   ]
  },
  {
   "cell_type": "code",
   "execution_count": 24,
   "metadata": {},
   "outputs": [],
   "source": [
    "remaining_cols = ['teacher_number_of_previously_posted_projects','is_digit_present']"
   ]
  },
  {
   "cell_type": "code",
   "execution_count": 25,
   "metadata": {},
   "outputs": [
    {
     "data": {
      "text/plain": [
       "OneHotEncoder(categorical_features=None, categories=None, drop=None,\n",
       "              dtype=<class 'numpy.float64'>, handle_unknown='error',\n",
       "              n_values=None, sparse=False)"
      ]
     },
     "execution_count": 25,
     "metadata": {},
     "output_type": "execute_result"
    }
   ],
   "source": [
    "ohe = OneHotEncoder(sparse=False) \n",
    "ohe.fit(x_train[remaining_cols])"
   ]
  },
  {
   "cell_type": "code",
   "execution_count": 26,
   "metadata": {},
   "outputs": [
    {
     "name": "stdout",
     "output_type": "stream",
     "text": [
      "(3200, 144)\n",
      "(800, 144)\n",
      "(1000, 144)\n"
     ]
    }
   ],
   "source": [
    "x_train_remaining_cols = ohe.transform(x_train[remaining_cols])\n",
    "x_cv_remaining_cols    = ohe.transform(x_cv[remaining_cols])\n",
    "x_test_remaining_cols  = ohe.transform(x_test[remaining_cols])\n",
    "print(x_train_remaining_cols.shape)\n",
    "print(x_cv_remaining_cols.shape)\n",
    "print(x_test_remaining_cols.shape)"
   ]
  },
  {
   "cell_type": "markdown",
   "metadata": {},
   "source": [
    "## Padding"
   ]
  },
  {
   "cell_type": "markdown",
   "metadata": {},
   "source": [
    "Essay"
   ]
  },
  {
   "cell_type": "code",
   "execution_count": 165,
   "metadata": {},
   "outputs": [
    {
     "name": "stdout",
     "output_type": "stream",
     "text": [
      "[[  18    4   53 ...    0    0    0]\n",
      " [   6   37    3 ...    0    0    0]\n",
      " [2244  955  987 ...    0    0    0]\n",
      " ...\n",
      " [   9    4   10 ...    0    0    0]\n",
      " [   7 6567    9 ...    0    0    0]\n",
      " [  18   21   13 ...    0    0    0]]\n"
     ]
    }
   ],
   "source": [
    "max_length   = 400\n",
    "padded_train_essay = pad_sequences(encoded_train_essay, maxlen= max_length, padding='post')\n",
    "print(padded_train_essay)"
   ]
  },
  {
   "cell_type": "code",
   "execution_count": 166,
   "metadata": {},
   "outputs": [
    {
     "name": "stdout",
     "output_type": "stream",
     "text": [
      "[[ 9  4 10 ...  0  0  0]\n",
      " [15 93 82 ...  0  0  0]\n",
      " [ 9 21 16 ...  0  0  0]\n",
      " ...\n",
      " [15 79  5 ...  0  0  0]\n",
      " [ 9  4 19 ...  0  0  0]\n",
      " [ 9  4 10 ...  0  0  0]]\n"
     ]
    }
   ],
   "source": [
    "max_length   = 400\n",
    "padded_cv_essay = pad_sequences(encoded_cv_essay, maxlen= max_length, padding='post')\n",
    "print(padded_cv_essay)"
   ]
  },
  {
   "cell_type": "code",
   "execution_count": 167,
   "metadata": {},
   "outputs": [
    {
     "name": "stdout",
     "output_type": "stream",
     "text": [
      "[[9546 9205  330 ...    0    0    0]\n",
      " [   9    4   10 ...    0    0    0]\n",
      " [   9    4   10 ...    0    0    0]\n",
      " ...\n",
      " [ 228   16   95 ...    0    0    0]\n",
      " [ 367  278   14 ...    0    0    0]\n",
      " [   9    4   10 ...   12   26   46]]\n"
     ]
    }
   ],
   "source": [
    "max_length   = 400\n",
    "padded_test_essay = pad_sequences(encoded_test_essay, maxlen= max_length, padding='post')\n",
    "print(padded_test_essay)"
   ]
  },
  {
   "cell_type": "markdown",
   "metadata": {},
   "source": [
    "## Load entire glove embedding"
   ]
  },
  {
   "cell_type": "code",
   "execution_count": 30,
   "metadata": {},
   "outputs": [
    {
     "name": "stdout",
     "output_type": "stream",
     "text": [
      "Loaded 400000 word vectors\n"
     ]
    }
   ],
   "source": [
    "embedding_index = dict()\n",
    "f = open('glove.6B.50d.txt', encoding='utf8')\n",
    "for line in f:\n",
    "    values = line.split()\n",
    "    word   = values[0]\n",
    "    coefs  = asarray(values[1:], dtype='float32') \n",
    "    embedding_index[word] = coefs\n",
    "f.close()\n",
    "print('Loaded %s word vectors' % len(embedding_index))"
   ]
  },
  {
   "cell_type": "code",
   "execution_count": 31,
   "metadata": {},
   "outputs": [],
   "source": [
    "embedding_matrix = zeros((vocab_size, 50))\n",
    "for word, i in t.word_index.items() :\n",
    "    embedding_vector = embedding_index.get(word)\n",
    "    if embedding_vector is not None:\n",
    "        embedding_matrix[i] = embedding_vector"
   ]
  },
  {
   "cell_type": "markdown",
   "metadata": {},
   "source": [
    "Here we are going to use Functional API for creating our architecture."
   ]
  },
  {
   "cell_type": "code",
   "execution_count": 172,
   "metadata": {
    "scrolled": false
   },
   "outputs": [
    {
     "name": "stdout",
     "output_type": "stream",
     "text": [
      "__________________________________________________________________________________________________\n",
      "Layer (type)                    Output Shape         Param #     Connected to                     \n",
      "==================================================================================================\n",
      "ip_total_text (InputLayer)      (None, 400)          0                                            \n",
      "__________________________________________________________________________________________________\n",
      "embedding_43 (Embedding)        (None, 400, 128)     51200000    ip_total_text[0][0]              \n",
      "__________________________________________________________________________________________________\n",
      "ip_school_state (InputLayer)    (None, 1)            0                                            \n",
      "__________________________________________________________________________________________________\n",
      "ip_grade_category (InputLayer)  (None, 1)            0                                            \n",
      "__________________________________________________________________________________________________\n",
      "ip_clean_category (InputLayer)  (None, 1)            0                                            \n",
      "__________________________________________________________________________________________________\n",
      "ip_clean_subcategory (InputLaye (None, 1)            0                                            \n",
      "__________________________________________________________________________________________________\n",
      "ip_teacher_prefix (InputLayer)  (None, 1)            0                                            \n",
      "__________________________________________________________________________________________________\n",
      "lstm_8 (LSTM)                   (None, 400, 32)      20608       embedding_43[0][0]               \n",
      "__________________________________________________________________________________________________\n",
      "embedding_44 (Embedding)        (None, 1, 1)         51          ip_school_state[0][0]            \n",
      "__________________________________________________________________________________________________\n",
      "embedding_45 (Embedding)        (None, 1, 1)         4           ip_grade_category[0][0]          \n",
      "__________________________________________________________________________________________________\n",
      "embedding_46 (Embedding)        (None, 1, 1)         45          ip_clean_category[0][0]          \n",
      "__________________________________________________________________________________________________\n",
      "embedding_47 (Embedding)        (None, 1, 1)         219         ip_clean_subcategory[0][0]       \n",
      "__________________________________________________________________________________________________\n",
      "embedding_48 (Embedding)        (None, 1, 1)         4           ip_teacher_prefix[0][0]          \n",
      "__________________________________________________________________________________________________\n",
      "ip_combined_columns (InputLayer (None, 144)          0                                            \n",
      "__________________________________________________________________________________________________\n",
      "flatten_43 (Flatten)            (None, 12800)        0           lstm_8[0][0]                     \n",
      "__________________________________________________________________________________________________\n",
      "flatten_44 (Flatten)            (None, 1)            0           embedding_44[0][0]               \n",
      "__________________________________________________________________________________________________\n",
      "flatten_45 (Flatten)            (None, 1)            0           embedding_45[0][0]               \n",
      "__________________________________________________________________________________________________\n",
      "flatten_46 (Flatten)            (None, 1)            0           embedding_46[0][0]               \n",
      "__________________________________________________________________________________________________\n",
      "flatten_47 (Flatten)            (None, 1)            0           embedding_47[0][0]               \n",
      "__________________________________________________________________________________________________\n",
      "flatten_48 (Flatten)            (None, 1)            0           embedding_48[0][0]               \n",
      "__________________________________________________________________________________________________\n",
      "dense_36 (Dense)                (None, 64)           9280        ip_combined_columns[0][0]        \n",
      "__________________________________________________________________________________________________\n",
      "concatenate_8 (Concatenate)     (None, 12869)        0           flatten_43[0][0]                 \n",
      "                                                                 flatten_44[0][0]                 \n",
      "                                                                 flatten_45[0][0]                 \n",
      "                                                                 flatten_46[0][0]                 \n",
      "                                                                 flatten_47[0][0]                 \n",
      "                                                                 flatten_48[0][0]                 \n",
      "                                                                 dense_36[0][0]                   \n",
      "__________________________________________________________________________________________________\n",
      "dense_37 (Dense)                (None, 64)           823680      concatenate_8[0][0]              \n",
      "__________________________________________________________________________________________________\n",
      "dropout_15 (Dropout)            (None, 64)           0           dense_37[0][0]                   \n",
      "__________________________________________________________________________________________________\n",
      "dense_38 (Dense)                (None, 32)           2080        dropout_15[0][0]                 \n",
      "__________________________________________________________________________________________________\n",
      "dropout_16 (Dropout)            (None, 32)           0           dense_38[0][0]                   \n",
      "__________________________________________________________________________________________________\n",
      "dense_39 (Dense)                (None, 16)           528         dropout_16[0][0]                 \n",
      "__________________________________________________________________________________________________\n",
      "dense_40 (Dense)                (None, 2)            34          dense_39[0][0]                   \n",
      "==================================================================================================\n",
      "Total params: 52,056,533\n",
      "Trainable params: 52,056,533\n",
      "Non-trainable params: 0\n",
      "__________________________________________________________________________________________________\n",
      "None\n"
     ]
    }
   ],
   "source": [
    "ip_seq_total_text = Input(shape = (400,), name = 'ip_total_text')\n",
    "x = Embedding(output_dim=128, input_dim=400000, input_length=400)(ip_seq_total_text)\n",
    "x = LSTM(32, return_sequences=True)(x)\n",
    "x    = Flatten()(x)\n",
    "\n",
    "ip_school_state = Input(shape=(1,), name= 'ip_school_state')\n",
    "y  = Embedding(output_dim=1, input_dim=51, input_length=1)(ip_school_state)\n",
    "y  = Flatten()(y)\n",
    "\n",
    "ip_grade_category = Input(shape=(1,), name = 'ip_grade_category')\n",
    "z = Embedding(output_dim=1, input_dim=4, input_length=1)(ip_grade_category)\n",
    "z = Flatten()(z)\n",
    "\n",
    "ip_clean_category = Input(shape=(1,), name = 'ip_clean_category')\n",
    "a = Embedding(output_dim=1, input_dim=45, input_length=1)(ip_clean_category)\n",
    "a = Flatten()(a)\n",
    "\n",
    "ip_clean_subcategory= Input(shape=(1,), name ='ip_clean_subcategory')\n",
    "b = Embedding(output_dim=1, input_dim=219, input_length=1)(ip_clean_subcategory)\n",
    "b = Flatten()(b)\n",
    "\n",
    "ip_teacher_prefix= Input(shape=(1,), name ='ip_teacher_prefix')\n",
    "c = Embedding(output_dim=1, input_dim=4, input_length=1)(ip_teacher_prefix)\n",
    "c = Flatten()(c)\n",
    "\n",
    "ip_combined_columns = Input(shape=(144,), name= 'ip_combined_columns')\n",
    "d = Dense(64, activation='relu')(ip_combined_columns)\n",
    "#\"\"\"\n",
    "model = concatenate([x,y,z,a,b,c,d])\n",
    "model = Dense(64, activation='relu')(model)\n",
    "model = Dropout(0.5)(model)\n",
    "\n",
    "model = Dense(32, activation='relu')(model)\n",
    "model = Dropout(0.25)(model)\n",
    "\n",
    "model = Dense(16, activation='relu')(model)\n",
    "output_layer = Dense(2, activation=\"sigmoid\")(model)\n",
    "\n",
    "model = Model(inputs = [ip_seq_total_text,ip_school_state,ip_grade_category,ip_clean_category,ip_clean_subcategory, ip_teacher_prefix, ip_combined_columns], outputs= output_layer)\n",
    "# Compiling the model\n",
    "model.compile(loss='sparse_categorical_crossentropy',\n",
    "              optimizer='adam',\n",
    "              metrics=['accuracy'])\n",
    "print(model.summary())"
   ]
  },
  {
   "cell_type": "code",
   "execution_count": 173,
   "metadata": {
    "scrolled": false
   },
   "outputs": [
    {
     "name": "stdout",
     "output_type": "stream",
     "text": [
      "Train on 3200 samples, validate on 800 samples\n",
      "Epoch 1/10\n",
      " - 64s - loss: 0.5215 - acc: 0.8253 - val_loss: 0.4300 - val_acc: 0.8575\n",
      "Epoch 2/10\n",
      " - 34s - loss: 0.4452 - acc: 0.8472 - val_loss: 0.4080 - val_acc: 0.8575\n",
      "Epoch 3/10\n",
      " - 36s - loss: 0.3810 - acc: 0.8478 - val_loss: 0.4104 - val_acc: 0.8575\n",
      "Epoch 4/10\n",
      " - 36s - loss: 0.2440 - acc: 0.8847 - val_loss: 0.6198 - val_acc: 0.7925\n",
      "Epoch 5/10\n",
      " - 36s - loss: 0.1130 - acc: 0.9616 - val_loss: 0.9207 - val_acc: 0.8263\n",
      "Epoch 6/10\n",
      " - 38s - loss: 0.0386 - acc: 0.9888 - val_loss: 1.3011 - val_acc: 0.7987\n",
      "Epoch 7/10\n",
      " - 38s - loss: 0.0288 - acc: 0.9906 - val_loss: 1.4876 - val_acc: 0.8550\n",
      "Epoch 8/10\n",
      " - 38s - loss: 0.0209 - acc: 0.9944 - val_loss: 1.3930 - val_acc: 0.8050\n",
      "Epoch 9/10\n",
      " - 37s - loss: 0.0050 - acc: 0.9988 - val_loss: 1.9442 - val_acc: 0.8025\n",
      "Epoch 10/10\n",
      " - 37s - loss: 0.0070 - acc: 0.9994 - val_loss: 1.7189 - val_acc: 0.8237\n"
     ]
    }
   ],
   "source": [
    "metrics = Metrics()\n",
    "plot = model.fit([padded_train_essay, x_train['school_state'], x_train['project_grade_category'], x_train['clean_categories'], x_train['clean_subcategories'], x_train['teacher_prefix'], x_train_remaining_cols],y_train, epochs=10, batch_size=128, verbose=2, validation_data=([padded_cv_essay, x_cv['school_state'], x_cv['project_grade_category'], x_cv['clean_categories'], x_cv['clean_subcategories'], x_cv['teacher_prefix'], x_cv_remaining_cols], y_cv))"
   ]
  },
  {
   "cell_type": "code",
   "execution_count": 143,
   "metadata": {},
   "outputs": [],
   "source": [
    "\"\"\"\n",
    "from keras.utils import plot_model\n",
    "plot_model(model, to_file='model.png')\n",
    "\"\"\""
   ]
  },
  {
   "cell_type": "markdown",
   "metadata": {},
   "source": [
    "# Model 2:"
   ]
  },
  {
   "cell_type": "markdown",
   "metadata": {},
   "source": [
    "Tfidf Vectorization"
   ]
  },
  {
   "cell_type": "code",
   "execution_count": 103,
   "metadata": {},
   "outputs": [
    {
     "data": {
      "text/plain": [
       "(3200, 16)"
      ]
     },
     "execution_count": 103,
     "metadata": {},
     "output_type": "execute_result"
    }
   ],
   "source": [
    "x_train.shape"
   ]
  },
  {
   "cell_type": "code",
   "execution_count": 82,
   "metadata": {
    "scrolled": false
   },
   "outputs": [
    {
     "name": "stdout",
     "output_type": "stream",
     "text": [
      "some sample features ['00', '000', '01', '02', '047', '05', '0nly', '10', '100', '1000', '100m', '100s', '100th', '101', '102', '105', '107', '1084', '10pm', '10th', '11', '110', '1100', '116', '11th', '11x17', '12', '120', '12000', '120s', '125', '127', '12th', '13', '130', '1300', '135', '14', '140', '15', '150', '1500', '16', '160', '1600', '162nd', '16th', '17', '170', '175']\n",
      "==================================================\n",
      "After featurization\n",
      "\n",
      "(3200, 15277) (3200,)\n",
      "(800, 15277) (800,)\n",
      "(1000, 15277) (1000,)\n"
     ]
    }
   ],
   "source": [
    "tf_idf = TfidfVectorizer( use_idf=True) # min_df=10\n",
    "tf_idf.fit(x_train['essay'])\n",
    "print(\"some sample features\",tf_idf.get_feature_names()[0:50]) \n",
    "print('='*50)\n",
    "\n",
    "x_train_tfidf = tf_idf.transform(x_train['essay']) \n",
    "x_cv_tfidf    = tf_idf.transform(x_cv['essay'])\n",
    "x_test_tfidf  = tf_idf.transform(x_test['essay'])\n",
    "\n",
    "print(\"After featurization\\n\")\n",
    "print(x_train_tfidf.shape, y_train.shape)\n",
    "print(x_cv_tfidf.shape,    y_cv.shape)\n",
    "print(x_test_tfidf.shape,  y_test.shape) "
   ]
  },
  {
   "cell_type": "code",
   "execution_count": 83,
   "metadata": {},
   "outputs": [],
   "source": [
    "# we are converting a dictionary with word as a key, and the idf as a value \n",
    "dictionary_train = dict(zip(tf_idf.get_feature_names(), list(tf_idf.idf_))) "
   ]
  },
  {
   "cell_type": "code",
   "execution_count": 84,
   "metadata": {},
   "outputs": [
    {
     "data": {
      "text/plain": [
       "15277"
      ]
     },
     "execution_count": 84,
     "metadata": {},
     "output_type": "execute_result"
    }
   ],
   "source": [
    "len(dictionary_train)"
   ]
  },
  {
   "cell_type": "code",
   "execution_count": 85,
   "metadata": {},
   "outputs": [
    {
     "name": "stdout",
     "output_type": "stream",
     "text": [
      "Filtered Dictionary : \n"
     ]
    },
    {
     "name": "stdout",
     "output_type": "stream",
     "text": [
      "{'000': 5.703922709983389, '10': 4.466048353981772, '100': 3.664046768509744, '11': 5.5158704784804495, '12': 4.689191905295981, '15': 5.139392907245537, '16': 5.8523427151016625, '17': 5.893164709621917, '18': 5.5158704784804495, '1st': 5.028167272135313, '20': 4.42682764082849, '2016': 5.407656893840216, '2017': 5.813122001948381, '21': 5.5158704784804495, '21st': 4.034265937556234, '22': 5.433632380243477, '23': 5.980176086611547, '24': 5.100926626417741, '25': 4.976873977747762, '26': 5.8523427151016625, '28': 5.6054826371701365, '2nd': 4.49650756146648, '30': 4.66449929270561, '3d': 5.382339085855927, '3rd': 4.407779445857797, '40': 5.0107755294234435, '4th': 4.446245726685592, '50': 4.822723297920504, '500': 5.6054826371701365, '5th': 3.92372406315641, '60': 4.676769385297424, '600': 5.8523427151016625, '6th': 4.605310421315279, '70': 5.487699601513753, '75': 5.433632380243477, '7th': 5.100926626417741, '80': 5.082234493405589, '85': 5.544858015353702, '8th': 4.517341648369323, '90': 4.881563797943437, '95': 5.893164709621917, '98': 5.8523427151016625, 'abilities': 3.947254560566604, 'ability': 3.3218255540616095, 'above': 4.593881725491657, 'absolutely': 5.063885354737392, 'abstract': 5.775381673965534, 'academically': 4.047338019123586, 'academics': 4.250936974364826, 'academy': 5.670021158307708, 'accelerated': 5.670021158307708, 'accessible': 4.767153446765693, 'accommodate': 5.5158704784804495, 'accomplish': 4.866525920578897, 'according': 5.460300627325639, 'achieve': 3.6418729110154224, 'achievement': 4.343830721257523, 'achieving': 5.100926626417741, 'acquire': 5.6054826371701365, 'across': 4.582582170237723, 'act': 5.200017529061972, 'action': 5.382339085855927, 'actions': 5.980176086611547, 'active': 3.1906855535691627, 'actively': 4.571408869639598, 'activity': 3.7005805118422, 'actually': 4.912335456610191, 'add': 3.9413198250467896, 'added': 5.200017529061972, 'adding': 4.866525920578897, 'addition': 3.476507160368024, 'additional': 4.275427994373121, 'additionally': 5.159195534541717, 'address': 5.460300627325639, 'adequate': 5.935724324040713, 'adhd': 4.822723297920504, 'adult': 5.264556050199543, 'adults': 4.560359033453013, 'advance': 5.045866849234714, 'advanced': 4.960344675796552, 'advantage': 5.544858015353702, 'adventure': 5.382339085855927, 'adventures': 5.637231335484717, 'adversity': 5.935724324040713, 'affluent': 5.893164709621917, 'afford': 4.49650756146648, 'african': 4.538619046816607, 'after': 3.440006758148497, 'again': 4.701770687502842, 'against': 5.382339085855927, 'age': 3.6775909936175015, 'ages': 5.221070938259804, 'ago': 5.333548921686495, 'ahead': 5.0107755294234435, 'aid': 4.794552420953808, 'aids': 5.775381673965534, 'aim': 5.637231335484717, 'air': 5.382339085855927, 'alive': 5.287028906051602, 'allowed': 4.912335456610191, 'allowing': 4.002314337749631, 'allows': 3.5338842729513265, 'almost': 4.538619046816607, 'alone': 5.333548921686495, 'along': 3.917926945472084, 'aloud': 5.028167272135313, 'alouds': 5.980176086611547, 'alphabet': 5.5158704784804495, 'already': 3.883832734129108, 'alternative': 4.326286411606613, 'although': 4.2114061356081915, 'amaze': 5.574710978503383, 'amazed': 5.670021158307708, 'ambitious': 5.813122001948381, 'america': 5.333548921686495, 'american': 4.188416617383492, 'among': 4.727413118116179, 'amount': 4.267197495236607, 'analyze': 5.5158704784804495, 'angeles': 5.935724324040713, 'animals': 5.3576464732655555, 'another': 3.3978952727983707, 'answer': 4.866525920578897, 'answers': 5.200017529061972, 'anxiety': 5.637231335484717, 'any': 3.105071800846171, 'anyone': 5.893164709621917, 'anything': 4.227031453511271, 'anywhere': 5.5158704784804495, 'apart': 5.242577143480768, 'app': 5.3576464732655555, 'apple': 5.935724324040713, 'application': 5.5158704784804495, 'applications': 5.139392907245537, 'apply': 4.571408869639598, 'appreciate': 4.466048353981772, 'appreciated': 5.139392907245537, 'appreciation': 5.813122001948381, 'approach': 4.960344675796552, 'appropriate': 4.158563654233811, 'approximately': 4.52792375769986, 'apps': 4.021362532720326, 'areas': 3.469099719090162, 'aren': 4.960344675796552, 'arrive': 5.3576464732655555, 'art': 3.4990645077920983, 'articles': 5.407656893840216, 'artistic': 5.382339085855927, 'artists': 5.159195534541717, 'arts': 3.803360380906535, 'artwork': 5.574710978503383, 'asian': 5.775381673965534, 'ask': 4.014972734621555, 'asked': 4.283726797187818, 'asking': 3.824194467809377, 'aspect': 5.242577143480768, 'aspects': 5.287028906051602, 'assessment': 5.739014029794659, 'assessments': 5.200017529061972, 'asset': 5.813122001948381, 'assigned': 5.6054826371701365, 'assignment': 5.775381673965534, 'assignments': 4.108373909709956, 'assist': 4.49650756146648, 'assistance': 4.993681096064144, 'athletes': 5.703922709983389, 'atmosphere': 5.100926626417741, 'attend': 3.682146810153362, 'attendance': 5.670021158307708, 'attending': 5.5158704784804495, 'attention': 3.7982189814061162, 'attitude': 5.460300627325639, 'attitudes': 5.813122001948381, 'audio': 5.670021158307708, 'auditory': 5.813122001948381, 'authentic': 5.407656893840216, 'author': 5.775381673965534, 'authors': 5.242577143480768, 'autism': 4.335020091575368, 'available': 3.487722231188164, 'average': 5.063885354737392, 'avid': 5.460300627325639, 'aware': 5.813122001948381, 'awareness': 5.159195534541717, 'away': 4.335020091575368, 'awesome': 4.317628348863499, 'back': 3.7729011734218263, 'background': 4.2349366330183855, 'backpack': 5.382339085855927, 'backpacks': 5.935724324040713, 'bag': 5.139392907245537, 'bags': 4.912335456610191, 'balance': 4.689191905295981, 'ball': 4.370738174177447, 'balls': 4.122458649591694, 'band': 5.287028906051602, 'bands': 5.433632380243477, 'barriers': 5.407656893840216, 'base': 5.242577143480768, 'based': 3.2935662167472066, 'basic': 3.590579616627872, 'basics': 5.775381673965534, 'basis': 3.782951509275328, 'basketball': 5.703922709983389, 'bean': 5.063885354737392, 'beautiful': 4.476098689835274, 'becomes': 5.0107755294234435, 'becoming': 4.267197495236607, 'before': 3.738499746704494, 'began': 5.813122001948381, 'begin': 4.014972734621555, 'beginning': 4.122458649591694, 'begins': 5.775381673965534, 'behavior': 4.267197495236607, 'behavioral': 5.574710978503383, 'behaviors': 5.287028906051602, 'behind': 4.4172581898123395, 'believe': 3.3346462424906713, 'below': 3.9774683391631007, 'beneficial': 4.808538662928548, 'benefit': 3.4187293597012127, 'benefits': 4.571408869639598, 'between': 4.034265937556234, 'beyond': 3.947254560566604, 'big': 3.8727215087040374, 'bigger': 5.5158704784804495, 'biggest': 5.333548921686495, 'bilingual': 4.960344675796552, 'bins': 5.221070938259804, 'biology': 5.935724324040713, 'bit': 5.100926626417741, 'black': 5.574710978503383, 'blessed': 5.382339085855927, 'block': 5.200017529061972, 'blocks': 4.912335456610191, 'blue': 5.775381673965534, 'board': 4.389087312845644, 'boards': 4.780759098821472, 'bodies': 4.283726797187818, 'body': 4.108373909709956, 'book': 3.1257979313632878, 'boost': 5.100926626417741, 'boring': 5.813122001948381, 'borrow': 5.980176086611547, 'bounce': 5.574710978503383, 'bouncy': 5.813122001948381, 'box': 4.881563797943437, 'boxes': 5.703922709983389, 'boys': 4.628567283479546, 'brain': 4.476098689835274, 'brains': 5.082234493405589, 'brand': 5.670021158307708, 'break': 4.767153446765693, 'breakfast': 3.3978952727983707, 'breaks': 5.082234493405589, 'bridge': 5.287028906051602, 'bright': 4.108373909709956, 'brilliant': 5.893164709621917, 'bring': 3.50669813264717, 'bringing': 5.333548921686495, 'brings': 5.200017529061972, 'broken': 5.045866849234714, 'bronx': 5.8523427151016625, 'brought': 5.8523427151016625, 'budding': 5.935724324040713, 'budget': 4.158563654233811, 'build': 3.0477709470088303, 'building': 3.2812583690726096, 'built': 5.287028906051602, 'bunch': 5.028167272135313, 'busy': 5.100926626417741, 'buy': 5.0107755294234435, 'calculators': 5.813122001948381, 'california': 5.082234493405589, 'call': 5.670021158307708, 'called': 4.928083813578331, 'calm': 5.407656893840216, 'came': 5.0107755294234435, 'camera': 4.928083813578331, 'campus': 4.993681096064144, 'cannot': 4.021362532720326, 'capabilities': 5.775381673965534, 'capable': 5.287028906051602, 'cards': 5.179398241859237, 'care': 3.95923075161332, 'career': 4.2114061356081915, 'careers': 4.52792375769986, 'caring': 4.275427994373121, 'carolina': 5.5158704784804495, 'carpet': 4.808538662928548, 'carry': 5.159195534541717, 'cart': 5.139392907245537, 'case': 5.5158704784804495, 'cases': 5.333548921686495, 'catch': 5.8523427151016625, 'caucasian': 5.574710978503383, 'cause': 5.813122001948381, 'cd': 5.637231335484717, 'celebrate': 5.407656893840216, 'center': 3.624481168303553, 'centered': 5.242577143480768, 'centers': 4.014972734621555, 'central': 5.739014029794659, 'century': 3.9354201029196014, 'certain': 4.944084154924772, 'certainly': 5.045866849234714, 'chair': 4.122458649591694, 'chairs': 3.5989478662983885, 'challenge': 3.4293114690317497, 'challenged': 4.549429962920822, 'challenging': 3.92372406315641, 'chance': 3.64626852248846, 'chances': 5.935724324040713, 'change': 3.724111009252394, 'changed': 5.460300627325639, 'changes': 4.960344675796552, 'changing': 4.640401741126549, 'chapter': 5.544858015353702, 'character': 5.0107755294234435, 'characters': 5.045866849234714, 'charge': 5.407656893840216, 'chart': 5.670021158307708, 'charter': 4.912335456610191, 'charts': 5.6054826371701365, 'check': 4.993681096064144, 'chicago': 5.739014029794659, 'child': 3.443597426279226, 'childhood': 5.407656893840216, 'choice': 4.008623506942897, 'choices': 4.165943761531434, 'choose': 3.5221424550746434, 'choosing': 5.980176086611547, 'chose': 5.8523427151016625, 'chosen': 5.264556050199543, 'chrome': 5.6054826371701365, 'chromebook': 4.837112035372604, 'chromebooks': 3.92372406315641, 'circle': 5.935724324040713, 'circumstances': 5.1199748213884355, 'citizens': 4.593881725491657, 'city': 3.4580904335817926, 'classes': 3.3741250534644585, 'classified': 5.935724324040713, 'classmates': 4.616871243716355, 'classrooms': 3.6506835406975773, 'classwork': 5.935724324040713, 'clay': 5.739014029794659, 'clean': 4.794552420953808, 'clear': 5.670021158307708, 'clearly': 5.8523427151016625, 'clever': 5.637231335484717, 'close': 4.379870657740719, 'closer': 5.703922709983389, 'clothes': 5.6054826371701365, 'clothing': 5.893164709621917, 'club': 5.028167272135313, 'clubs': 5.670021158307708, 'co': 5.433632380243477, 'code': 5.0107755294234435, 'coding': 4.640401741126549, 'cognitive': 5.487699601513753, 'cold': 5.893164709621917, 'collaborate': 4.3527196686747684, 'collaborating': 5.813122001948381, 'collaboration': 4.42682764082849, 'collaborative': 4.822723297920504, 'collaboratively': 5.100926626417741, 'collection': 5.333548921686495, 'college': 3.7679136319107873, 'color': 4.446245726685592, 'colored': 5.0107755294234435, 'colorful': 5.242577143480768, 'colors': 5.3576464732655555, 'combination': 5.935724324040713, 'comes': 4.115391482368603, 'comfort': 5.063885354737392, 'comfortable': 3.4580904335817926, 'comfortably': 5.670021158307708, 'comfy': 5.5158704784804495, 'coming': 3.5497576221076166, 'committed': 5.159195534541717, 'common': 3.9774683391631007, 'communicate': 4.8517108347937565, 'communication': 4.36168833865753, 'communities': 5.139392907245537, 'compare': 5.6054826371701365, 'compete': 5.264556050199543, 'competition': 5.980176086611547, 'competitive': 5.544858015353702, 'complete': 3.3774864011671637, 'completed': 5.670021158307708, 'completely': 5.382339085855927, 'completing': 4.896831270074226, 'complex': 5.333548921686495, 'component': 5.460300627325639, 'components': 5.980176086611547, 'comprehend': 5.637231335484717, 'comprehension': 4.080785953191127, 'comprised': 5.5158704784804495, 'computer': 3.529954994811437, 'computers': 3.6685411580975837, 'concentrate': 5.382339085855927, 'concentration': 5.893164709621917, 'concept': 4.822723297920504, 'concepts': 3.5864216064792083, 'concrete': 5.382339085855927, 'conditions': 5.893164709621917, 'conducive': 5.544858015353702, 'conduct': 5.460300627325639, 'confidence': 4.080785953191127, 'confident': 4.714509713280272, 'connect': 4.446245726685592, 'connected': 5.433632380243477, 'connection': 5.1199748213884355, 'connections': 4.616871243716355, 'consider': 4.767153446765693, 'consideration': 5.893164709621917, 'considered': 4.780759098821472, 'considering': 5.287028906051602, 'consist': 5.670021158307708, 'consistent': 5.433632380243477, 'consistently': 5.487699601513753, 'consists': 4.8517108347937565, 'constant': 4.976873977747762, 'constantly': 3.906432566046349, 'construct': 5.739014029794659, 'construction': 5.637231335484717, 'contained': 5.310018424276301, 'content': 4.115391482368603, 'continually': 5.893164709621917, 'continue': 3.2997774168398473, 'continuously': 5.980176086611547, 'contribute': 5.333548921686495, 'control': 4.143964854812658, 'conversation': 5.8523427151016625, 'conversations': 5.544858015353702, 'cool': 5.407656893840216, 'cooperative': 5.100926626417741, 'cooperatively': 5.8523427151016625, 'coordination': 5.813122001948381, 'copies': 5.221070938259804, 'copy': 5.487699601513753, 'core': 3.9007345449317112, 'corner': 5.703922709983389, 'correct': 5.264556050199543, 'cost': 5.8523427151016625, 'could': 3.350906763362451, 'couldn': 5.739014029794659, 'count': 5.487699601513753, 'counting': 5.487699601513753, 'countries': 5.100926626417741, 'country': 4.66449929270561, 'county': 5.082234493405589, 'couple': 5.574710978503383, 'course': 4.628567283479546, 'cover': 5.487699601513753, 'covered': 5.980176086611547, 'cozy': 5.637231335484717, 'craft': 5.980176086611547, 'crave': 5.6054826371701365, 'crayons': 5.242577143480768, 'created': 4.538619046816607, 'creates': 5.310018424276301, 'creating': 3.5537656435051552, 'creation': 5.813122001948381, 'creations': 5.637231335484717, 'creativity': 3.758012560928076, 'crime': 5.980176086611547, 'critical': 3.743342371180282, 'critically': 5.407656893840216, 'cross': 5.333548921686495, 'crucial': 4.928083813578331, 'cultural': 4.42682764082849, 'culturally': 5.045866849234714, 'culture': 4.476098689835274, 'cultures': 4.087611918261526, 'curiosity': 4.407779445857797, 'curious': 3.850862714891538, 'current': 3.856282782360877, 'currently': 3.3411187569962886, 'curricular': 5.574710978503383, 'curriculum': 3.3774864011671637, 'cushions': 5.221070938259804, 'cut': 5.159195534541717, 'cuts': 5.310018424276301, 'cycle': 5.8523427151016625, 'dance': 5.063885354737392, 'dancing': 5.8523427151016625, 'data': 4.896831270074226, 'date': 5.333548921686495, 'days': 4.196021216768711, 'deal': 5.028167272135313, 'decided': 5.544858015353702, 'dedicated': 4.5068703485020265, 'deep': 5.407656893840216, 'deeper': 5.139392907245537, 'definitely': 5.242577143480768, 'delays': 5.670021158307708, 'demand': 5.893164709621917, 'demands': 5.487699601513753, 'demonstrate': 4.866525920578897, 'department': 5.980176086611547, 'depth': 5.670021158307708, 'describe': 5.382339085855927, 'deserve': 3.611633025825704, 'deserves': 5.8523427151016625, 'design': 4.158563654233811, 'designated': 5.980176086611547, 'designed': 4.794552420953808, 'designing': 5.893164709621917, 'designs': 5.739014029794659, 'desire': 4.115391482368603, 'desk': 4.122458649591694, 'desks': 4.047338019123586, 'desktop': 5.980176086611547, 'desperately': 5.264556050199543, 'despite': 3.3707749665791766, 'determination': 5.6054826371701365, 'determined': 4.928083813578331, 'develop': 3.263076049989419, 'developed': 5.200017529061972, 'developing': 4.370738174177447, 'development': 4.115391482368603, 'developmental': 5.544858015353702, 'developmentally': 5.703922709983389, 'device': 5.433632380243477, 'devices': 4.628567283479546, 'did': 4.7537304264335525, 'didn': 5.703922709983389, 'difference': 3.845471866256662, 'differences': 5.082234493405589, 'differentiate': 5.3576464732655555, 'differentiated': 4.976873977747762, 'differentiation': 5.935724324040713, 'differently': 5.574710978503383, 'difficult': 3.3346462424906713, 'difficulties': 5.221070938259804, 'difficulty': 5.100926626417741, 'digital': 4.317628348863499, 'direct': 5.407656893840216, 'direction': 5.813122001948381, 'directions': 5.813122001948381, 'directly': 5.159195534541717, 'disabilities': 3.850862714891538, 'disability': 5.637231335484717, 'disadvantage': 5.813122001948381, 'disadvantaged': 4.7537304264335525, 'discover': 4.571408869639598, 'discoveries': 5.8523427151016625, 'discovery': 5.221070938259804, 'discuss': 4.912335456610191, 'discussing': 5.893164709621917, 'discussion': 5.045866849234714, 'discussions': 5.159195534541717, 'disorder': 5.433632380243477, 'disorders': 5.8523427151016625, 'display': 4.7537304264335525, 'distracted': 5.8523427151016625, 'distracting': 5.703922709983389, 'distraction': 5.980176086611547, 'distractions': 5.544858015353702, 'district': 3.115381170505032, 'districts': 5.670021158307708, 'dive': 5.8523427151016625, 'diversity': 4.582582170237723, 'doctors': 5.813122001948381, 'document': 4.896831270074226, 'documents': 5.893164709621917, 'does': 4.040780618577427, 'doesn': 4.676769385297424, 'doing': 3.545765600838079, 'don': 3.138973352521852, 'donate': 5.893164709621917, 'donated': 5.6054826371701365, 'donating': 4.560359033453013, 'donation': 3.845471866256662, 'donations': 4.053938703154939, 'done': 4.605310421315279, 'donors': 4.960344675796552, 'donorschoose': 5.703922709983389, 'door': 4.49650756146648, 'doors': 5.159195534541717, 'down': 3.883832734129108, 'dr': 5.739014029794659, 'dramatic': 5.980176086611547, 'draw': 5.0107755294234435, 'drawing': 5.264556050199543, 'dream': 4.66449929270561, 'dreamers': 5.6054826371701365, 'dreams': 4.837112035372604, 'drive': 5.100926626417741, 'driven': 5.310018424276301, 'dry': 4.837112035372604, 'dual': 5.544858015353702, 'due': 3.529954994811437, 'durable': 5.813122001948381, 'dynamic': 5.460300627325639, 'eagerness': 5.179398241859237, 'earliest': 5.813122001948381, 'early': 4.1733787400189515, 'earn': 5.739014029794659, 'earth': 5.3576464732655555, 'ease': 5.574710978503383, 'easel': 5.544858015353702, 'easier': 4.446245726685592, 'easily': 4.122458649591694, 'east': 5.407656893840216, 'easy': 4.143964854812658, 'eat': 5.028167272135313, 'eating': 5.813122001948381, 'economic': 3.758012560928076, 'economically': 4.517341648369323, 'ed': 5.935724324040713, 'educate': 5.813122001948381, 'educational': 3.4472010337825245, 'educator': 5.460300627325639, 'educators': 5.6054826371701365, 'effect': 5.980176086611547, 'effective': 4.582582170237723, 'effectively': 4.8517108347937565, 'effects': 5.893164709621917, 'efficient': 5.980176086611547, 'efficiently': 5.670021158307708, 'effort': 4.928083813578331, 'efforts': 5.6054826371701365, 'eight': 5.574710978503383, 'eighth': 5.670021158307708, 'either': 4.960344675796552, 'ela': 5.460300627325639, 'electronic': 5.935724324040713, 'elementary': 3.4047918518574307, 'elements': 5.637231335484717, 'eligible': 5.935724324040713, 'ell': 5.100926626417741, 'else': 5.407656893840216, 'embrace': 5.242577143480768, 'emotional': 4.292095046858334, 'emotionally': 5.739014029794659, 'emotions': 5.544858015353702, 'emphasis': 5.544858015353702, 'empower': 5.221070938259804, 'empowered': 5.574710978503383, 'empowering': 5.775381673965534, 'enable': 4.446245726685592, 'encounter': 5.739014029794659, 'encourage': 3.659572488114823, 'encouraged': 4.960344675796552, 'encouragement': 5.739014029794659, 'encourages': 5.200017529061972, 'encouraging': 5.264556050199543, 'end': 3.8727215087040374, 'endless': 4.808538662928548, 'ends': 5.670021158307708, 'energetic': 3.728884288005052, 'energy': 3.454447442303292, 'engage': 3.4047918518574307, 'engaged': 3.0999567001794004, 'engagement': 4.250936974364826, 'engaging': 3.236407802907258, 'engineer': 5.935724324040713, 'engineering': 4.300533915504198, 'engineers': 5.179398241859237, 'enhance': 3.655118137765443, 'enhanced': 5.980176086611547, 'enjoyable': 5.333548921686495, 'enjoyment': 5.670021158307708, 'enough': 3.4082580598339174, 'enrich': 5.139392907245537, 'enriching': 5.703922709983389, 'enrichment': 5.637231335484717, 'enrolled': 5.8523427151016625, 'ensure': 3.8782616890796526, 'enter': 4.335020091575368, 'entering': 5.333548921686495, 'enthusiasm': 4.794552420953808, 'enthusiastic': 4.143964854812658, 'entire': 4.1733787400189515, 'environmental': 5.670021158307708, 'environments': 5.179398241859237, 'equal': 5.333548921686495, 'equipment': 3.889434989677778, 'equipped': 5.813122001948381, 'erase': 5.028167272135313, 'erasers': 5.5158704784804495, 'esl': 5.487699601513753, 'especially': 3.777913715245371, 'essays': 5.574710978503383, 'essential': 3.983622204737479, 'esteem': 5.333548921686495, 'etc': 4.52792375769986, 'ethnic': 5.221070938259804, 'ethnically': 5.980176086611547, 'ethnicities': 5.980176086611547, 'event': 5.813122001948381, 'events': 4.466048353981772, 'eventually': 5.775381673965534, 'ever': 3.917926945472084, 'everyday': 3.331425627790629, 'everyone': 3.9652730660692823, 'everything': 3.6775909936175015, 'evidence': 5.637231335484717, 'exactly': 5.139392907245537, 'example': 4.928083813578331, 'examples': 5.200017529061972, 'excel': 4.866525920578897, 'excellence': 4.8517108347937565, 'excellent': 5.221070938259804, 'exceptional': 5.6054826371701365, 'excess': 5.980176086611547, 'excitement': 4.101405240393863, 'exciting': 3.603158398834732, 'exercise': 4.560359033453013, 'exercises': 5.813122001948381, 'expand': 4.42682764082849, 'expect': 5.460300627325639, 'expectations': 4.49650756146648, 'expected': 4.896831270074226, 'expensive': 5.637231335484717, 'experienced': 5.264556050199543, 'experiencing': 5.5158704784804495, 'experiment': 5.574710978503383, 'experiments': 5.045866849234714, 'explain': 5.487699601513753, 'exploration': 4.912335456610191, 'explore': 3.0429400197391647, 'exploring': 4.701770687502842, 'expose': 4.881563797943437, 'exposed': 4.326286411606613, 'exposure': 4.689191905295981, 'express': 4.20368408951428, 'expressing': 5.980176086611547, 'expression': 5.242577143480768, 'extend': 5.407656893840216, 'extended': 5.5158704784804495, 'extra': 3.624481168303553, 'extremely': 3.947254560566604, 'eye': 5.5158704784804495, 'eyes': 5.063885354737392, 'fabulous': 5.703922709983389, 'face': 3.157715534331593, 'faced': 4.122458649591694, 'faces': 4.317628348863499, 'facilitate': 5.333548921686495, 'facing': 5.200017529061972, 'fact': 4.466048353981772, 'factors': 5.8523427151016625, 'facts': 5.264556050199543, 'fair': 5.935724324040713, 'fall': 4.628567283479546, 'falling': 5.5158704784804495, 'familiar': 5.407656893840216, 'family': 3.3876387726311816, 'fantastic': 5.0107755294234435, 'far': 4.379870657740719, 'fast': 5.221070938259804, 'favorite': 4.283726797187818, 'fear': 5.637231335484717, 'feedback': 5.3576464732655555, 'feeling': 4.8517108347937565, 'feelings': 5.407656893840216, 'feet': 5.5158704784804495, 'few': 3.5537656435051552, 'fiction': 4.822723297920504, 'fidget': 5.544858015353702, 'field': 4.398389705507957, 'fields': 5.8523427151016625, 'fifth': 4.49650756146648, 'fill': 5.200017529061972, 'filled': 4.389087312845644, 'final': 5.8523427151016625, 'finally': 5.159195534541717, 'financial': 4.960344675796552, 'financially': 5.8523427151016625, 'find': 3.092332775068741, 'finding': 4.640401741126549, 'fine': 4.7404851996835315, 'fingertips': 5.574710978503383, 'finish': 5.159195534541717, 'finished': 5.980176086611547, 'fire': 5.574710978503383, 'fit': 4.407779445857797, 'fitness': 4.8517108347937565, 'five': 4.486251061299291, 'flexibility': 5.407656893840216, 'flexible': 3.8137231679420815, 'floor': 4.129576117360559, 'florida': 5.703922709983389, 'flow': 5.670021158307708, 'fluency': 4.407779445857797, 'fluent': 5.637231335484717, 'focused': 3.861732387128442, 'focuses': 5.487699601513753, 'focusing': 4.689191905295981, 'folders': 5.100926626417741, 'follow': 4.714509713280272, 'following': 5.264556050199543, 'food': 4.021362532720326, 'force': 5.670021158307708, 'forever': 5.703922709983389, 'forget': 5.382339085855927, 'form': 4.582582170237723, 'forms': 5.703922709983389, 'forth': 5.487699601513753, 'fortunate': 4.808538662928548, 'forward': 4.008623506942897, 'foster': 4.188416617383492, 'fosters': 5.935724324040713, 'found': 4.335020091575368, 'foundation': 4.517341648369323, 'foundational': 5.813122001948381, 'four': 4.343830721257523, 'fourth': 4.456098023128604, 'freedom': 5.310018424276301, 'freely': 5.775381673965534, 'frequently': 5.637231335484717, 'fresh': 5.5158704784804495, 'friend': 5.813122001948381, 'friendly': 5.1199748213884355, 'friends': 4.283726797187818, 'front': 4.896831270074226, 'frustrated': 5.775381673965534, 'fulfill': 5.775381673965534, 'full': 3.079753992861881, 'fullest': 5.813122001948381, 'fully': 4.52792375769986, 'function': 5.574710978503383, 'functional': 5.6054826371701365, 'functioning': 5.739014029794659, 'functions': 5.980176086611547, 'fund': 5.407656893840216, 'fundamental': 5.8523427151016625, 'funded': 4.8517108347937565, 'funding': 3.9898141749854, 'funds': 4.822723297920504, 'funny': 5.100926626417741, 'furniture': 5.3576464732655555, 'further': 4.292095046858334, 'futures': 5.221070938259804, 'gain': 4.158563654233811, 'gains': 5.8523427151016625, 'game': 4.292095046858334, 'games': 3.4013376169893434, 'gap': 4.8517108347937565, 'gaps': 5.775381673965534, 'garden': 5.739014029794659, 'gather': 5.775381673965534, 'general': 4.4172581898123395, 'generation': 4.866525920578897, 'generosity': 5.739014029794659, 'generous': 4.52792375769986, 'genres': 5.333548921686495, 'gets': 5.0107755294234435, 'getting': 3.611633025825704, 'gift': 5.407656893840216, 'gifted': 4.560359033453013, 'girls': 4.549429962920822, 'given': 3.569960329425136, 'gives': 4.309044605172106, 'giving': 3.953224727553108, 'global': 5.407656893840216, 'glue': 5.3576464732655555, 'goals': 3.450817674252713, 'goes': 5.063885354737392, 'going': 3.611633025825704, 'gone': 5.703922709983389, 'good': 3.529954994811437, 'google': 4.5068703485020265, 'got': 5.813122001948381, 'grades': 3.803360380906535, 'graduate': 5.382339085855927, 'graduation': 5.893164709621917, 'grammar': 5.980176086611547, 'grandparents': 5.775381673965534, 'grant': 5.487699601513753, 'granted': 5.544858015353702, 'graphic': 5.287028906051602, 'grasp': 5.775381673965534, 'grateful': 5.264556050199543, 'greater': 4.7537304264335525, 'greatest': 5.739014029794659, 'greatly': 4.087611918261526, 'greatness': 5.574710978503383, 'green': 5.893164709621917, 'greet': 5.813122001948381, 'gross': 5.637231335484717, 'groups': 3.2452184325894127, 'grow': 3.123183550789217, 'growing': 3.8782616890796526, 'grown': 5.407656893840216, 'growth': 3.664046768509744, 'guidance': 5.670021158307708, 'guide': 5.045866849234714, 'guided': 4.8517108347937565, 'gym': 5.6054826371701365, 'habits': 5.739014029794659, 'had': 3.364108275220987, 'half': 4.456098023128604, 'hand': 4.002314337749631, 'handle': 5.980176086611547, 'happen': 4.571408869639598, 'happening': 5.670021158307708, 'happens': 5.5158704784804495, 'happier': 5.980176086611547, 'happy': 4.267197495236607, 'harder': 5.433632380243477, 'hardest': 5.3576464732655555, 'hardships': 4.571408869639598, 'hardworking': 4.993681096064144, 'haven': 5.179398241859237, 'he': 4.960344675796552, 'head': 5.3576464732655555, 'headphones': 4.560359033453013, 'health': 4.3527196686747684, 'healthier': 5.8523427151016625, 'healthy': 3.9652730660692823, 'hear': 4.242904802667562, 'heard': 5.287028906051602, 'hearing': 5.3576464732655555, 'heart': 4.446245726685592, 'hearts': 5.179398241859237, 'held': 5.893164709621917, 'helped': 5.935724324040713, 'helpful': 4.960344675796552, 'helping': 3.659572488114823, 'helps': 3.6331392310466675, 'her': 4.912335456610191, 'here': 4.143964854812658, 'higher': 3.9713521121456647, 'highest': 4.640401741126549, 'highlight': 5.813122001948381, 'highly': 4.2590341845974455, 'him': 5.670021158307708, 'his': 4.701770687502842, 'hispanic': 4.49650756146648, 'historical': 5.487699601513753, 'history': 4.436489551740227, 'hokki': 5.310018424276301, 'hold': 4.49650756146648, 'homeless': 5.264556050199543, 'homes': 3.603158398834732, 'homework': 4.866525920578897, 'honor': 5.670021158307708, 'hope': 3.607386734944253, 'hopeful': 5.242577143480768, 'hopefully': 5.221070938259804, 'hopes': 5.637231335484717, 'hoping': 4.808538662928548, 'hot': 5.703922709983389, 'hour': 5.287028906051602, 'hours': 4.701770687502842, 'house': 5.242577143480768, 'households': 4.560359033453013, 'houses': 5.544858015353702, 'housing': 5.310018424276301, 'however': 3.1416293965799684, 'huge': 4.188416617383492, 'human': 5.460300627325639, 'hundred': 5.5158704784804495, 'hungry': 4.976873977747762, 'idea': 4.379870657740719, 'ideal': 5.935724324040713, 'ideas': 3.7530985461256465, 'identified': 5.574710978503383, 'identify': 5.100926626417741, 'images': 5.775381673965534, 'imagination': 5.200017529061972, 'imaginations': 5.264556050199543, 'imagine': 4.180869411748109, 'immediate': 5.407656893840216, 'immediately': 5.935724324040713, 'immigrant': 5.893164709621917, 'impact': 4.1733787400189515, 'impairments': 5.8523427151016625, 'implement': 5.5158704784804495, 'implementing': 5.487699601513753, 'importance': 4.538619046816607, 'importantly': 4.8517108347937565, 'impossible': 5.739014029794659, 'impoverished': 5.775381673965534, 'improve': 3.210432316503997, 'improved': 5.433632380243477, 'improvement': 5.6054826371701365, 'improving': 5.100926626417741, 'include': 4.143964854812658, 'included': 5.139392907245537, 'includes': 4.456098023128604, 'including': 3.996044724736036, 'inclusion': 5.433632380243477, 'inclusive': 5.670021158307708, 'incorporate': 4.370738174177447, 'incorporating': 5.200017529061972, 'increase': 3.3282153521603806, 'increased': 5.1199748213884355, 'increases': 5.200017529061972, 'increasing': 4.912335456610191, 'incredible': 4.767153446765693, 'incredibly': 4.960344675796552, 'independence': 5.100926626417741, 'independent': 3.6913211864294033, 'independently': 3.953224727553108, 'individual': 3.5417894524584397, 'individualized': 4.881563797943437, 'individually': 5.5158704784804495, 'individuals': 4.466048353981772, 'information': 3.824194467809377, 'informational': 5.893164709621917, 'initiative': 5.739014029794659, 'ink': 5.242577143480768, 'inner': 4.398389705507957, 'innovative': 4.66449929270561, 'input': 5.8523427151016625, 'inquiry': 4.912335456610191, 'inquisitive': 4.42682764082849, 'inside': 4.560359033453013, 'inspiration': 5.5158704784804495, 'inspire': 3.850862714891538, 'inspired': 4.398389705507957, 'inspiring': 5.063885354737392, 'instead': 4.2114061356081915, 'instill': 5.544858015353702, 'instruction': 3.302897544176091, 'instructional': 4.822723297920504, 'instrument': 5.6054826371701365, 'instruments': 5.028167272135313, 'integrate': 5.100926626417741, 'integrated': 5.382339085855927, 'integrating': 5.8523427151016625, 'integration': 5.893164709621917, 'intellectual': 5.310018424276301, 'intelligent': 5.100926626417741, 'interact': 4.571408869639598, 'interacting': 5.739014029794659, 'interaction': 5.893164709621917, 'interactions': 5.8523427151016625, 'interactive': 3.9898141749854, 'interest': 3.659572488114823, 'interested': 4.407779445857797, 'interesting': 4.42682764082849, 'interests': 4.538619046816607, 'internet': 4.517341648369323, 'intervention': 4.822723297920504, 'introduce': 4.912335456610191, 'introduced': 5.574710978503383, 'introducing': 5.980176086611547, 'investigate': 5.407656893840216, 'inviting': 4.822723297920504, 'involve': 5.3576464732655555, 'involved': 4.335020091575368, 'involvement': 5.775381673965534, 'involves': 5.8523427151016625, 'ipad': 3.929554983467203, 'ipads': 3.92372406315641, 'isn': 5.139392907245537, 'issue': 5.703922709983389, 'issues': 4.476098689835274, 'item': 5.980176086611547, 'items': 3.5378290512423427, 'its': 4.309044605172106, 'job': 3.850862714891538, 'jobs': 4.767153446765693, 'join': 5.637231335484717, 'journals': 5.460300627325639, 'journey': 4.7404851996835315, 'joy': 4.292095046858334, 'jump': 5.242577143480768, 'keeping': 4.676769385297424, 'keeps': 5.6054826371701365, 'key': 4.196021216768711, 'kid': 5.0107755294234435, 'kiddos': 4.837112035372604, 'kind': 4.053938703154939, 'kindergarten': 3.1523246856967164, 'kindergarteners': 5.063885354737392, 'kindergartners': 5.139392907245537, 'kindle': 5.775381673965534, 'kindness': 5.637231335484717, 'kinds': 5.935724324040713, 'kinesthetic': 5.574710978503383, 'kit': 5.221070938259804, 'kits': 4.808538662928548, 'knit': 5.382339085855927, 'knowing': 4.896831270074226, 'knowledge': 3.236407802907258, 'known': 5.3576464732655555, 'lab': 4.456098023128604, 'labs': 5.287028906051602, 'lack': 3.724111009252394, 'lacking': 5.100926626417741, 'languages': 4.379870657740719, 'lap': 5.980176086611547, 'laptop': 5.100926626417741, 'laptops': 5.1199748213884355, 'large': 3.4617467447849033, 'larger': 5.159195534541717, 'largest': 5.544858015353702, 'last': 3.782951509275328, 'lastly': 5.980176086611547, 'later': 5.460300627325639, 'latest': 5.980176086611547, 'latino': 5.200017529061972, 'lay': 5.8523427151016625, 'lead': 4.652377932173265, 'leaders': 4.571408869639598, 'leadership': 5.544858015353702, 'leads': 5.264556050199543, 'learned': 3.9652730660692823, 'learner': 5.179398241859237, 'learns': 5.5158704784804495, 'least': 4.398389705507957, 'leave': 4.616871243716355, 'leaving': 5.8523427151016625, 'led': 5.487699601513753, 'left': 4.944084154924772, 'legs': 5.813122001948381, 'less': 4.283726797187818, 'lesson': 4.087611918261526, 'lessons': 3.219016060195389, 'let': 3.9354201029196014, 'letter': 5.0107755294234435, 'letters': 4.5068703485020265, 'letting': 5.8523427151016625, 'leveled': 5.200017529061972, 'levels': 3.2782049315857194, 'library': 3.4152267291500102, 'lifelong': 4.727413118116179, 'lifestyle': 5.637231335484717, 'lifetime': 5.460300627325639, 'light': 4.7404851996835315, 'lights': 5.980176086611547, 'likely': 5.139392907245537, 'limit': 5.544858015353702, 'limited': 3.3541908385636416, 'limits': 5.637231335484717, 'line': 4.808538662928548, 'list': 5.179398241859237, 'listen': 4.227031453511271, 'listening': 4.196021216768711, 'literacy': 3.502874036208766, 'literally': 5.8523427151016625, 'literature': 4.021362532720326, 'little': 3.157715534331593, 'live': 3.1631356018009322, 'lively': 5.637231335484717, 'lives': 3.005110449866115, 'living': 4.1733787400189515, 'll': 4.714509713280272, 'local': 4.976873977747762, 'located': 3.5989478662983885, 'location': 5.703922709983389, 'long': 3.3443707923826658, 'longer': 4.466048353981772, 'look': 3.5182589550482457, 'looking': 3.578157096629315, 'looks': 5.893164709621917, 'los': 5.935724324040713, 'lose': 5.637231335484717, 'lost': 4.676769385297424, 'lot': 3.443597426279226, 'lots': 4.456098023128604, 'loud': 5.935724324040713, 'loved': 4.780759098821472, 'loves': 5.407656893840216, 'loving': 4.407779445857797, 'lower': 4.7537304264335525, 'lowest': 5.813122001948381, 'lucky': 4.7537304264335525, 'lunches': 4.652377932173265, 'machine': 5.813122001948381, 'made': 3.664046768509744, 'magazine': 5.544858015353702, 'magazines': 5.487699601513753, 'magic': 5.775381673965534, 'magical': 5.775381673965534, 'magnet': 5.264556050199543, 'magnetic': 5.544858015353702, 'main': 5.028167272135313, 'maintain': 5.100926626417741, 'maintaining': 5.8523427151016625, 'major': 5.264556050199543, 'majority': 3.5658870040375, 'makerspace': 5.8523427151016625, 'makes': 3.5378290512423427, 'making': 3.2935662167472066, 'manage': 5.544858015353702, 'management': 5.739014029794659, 'manipulate': 5.703922709983389, 'manipulatives': 4.549429962920822, 'manner': 5.382339085855927, 'markers': 4.560359033453013, 'master': 5.063885354737392, 'match': 5.893164709621917, 'material': 4.466048353981772, 'mathematical': 5.264556050199543, 'mathematicians': 5.0107755294234435, 'mathematics': 4.549429962920822, 'mats': 5.574710978503383, 'matter': 4.560359033453013, 'maximize': 5.6054826371701365, 'may': 3.157715534331593, 'meal': 5.739014029794659, 'meals': 4.944084154924772, 'mean': 5.382339085855927, 'meaning': 5.063885354737392, 'meaningful': 3.856282782360877, 'means': 3.5537656435051552, 'measure': 5.893164709621917, 'media': 4.780759098821472, 'meet': 3.201921626836089, 'meeting': 4.652377932173265, 'meetings': 5.980176086611547, 'meets': 5.544858015353702, 'member': 5.980176086611547, 'members': 4.4172581898123395, 'memory': 5.813122001948381, 'mental': 5.544858015353702, 'met': 4.794552420953808, 'method': 5.703922709983389, 'methods': 5.310018424276301, 'mexico': 5.980176086611547, 'middle': 3.4990645077920983, 'might': 4.714509713280272, 'military': 5.200017529061972, 'mind': 4.5068703485020265, 'mindfulness': 5.935724324040713, 'minds': 3.834776577139914, 'mindset': 5.433632380243477, 'mine': 5.775381673965534, 'mini': 4.837112035372604, 'minority': 5.8523427151016625, 'minute': 4.652377932173265, 'minutes': 4.309044605172106, 'miss': 5.544858015353702, 'missing': 5.139392907245537, 'mission': 5.310018424276301, 'mistakes': 5.460300627325639, 'mix': 5.460300627325639, 'mixed': 5.935724324040713, 'mobile': 5.670021158307708, 'model': 4.446245726685592, 'modeling': 5.6054826371701365, 'models': 5.100926626417741, 'moderate': 5.893164709621917, 'modern': 5.637231335484717, 'moment': 4.896831270074226, 'money': 4.267197495236607, 'monitor': 5.703922709983389, 'month': 5.574710978503383, 'months': 5.637231335484717, 'morning': 4.143964854812658, 'mostly': 5.159195534541717, 'motion': 5.637231335484717, 'motivate': 4.436489551740227, 'motivated': 3.686723477180774, 'motivates': 5.935724324040713, 'motivating': 5.703922709983389, 'motivation': 4.486251061299291, 'motor': 4.436489551740227, 'motto': 5.487699601513753, 'moved': 5.739014029794659, 'movement': 3.6775909936175015, 'moving': 3.7729011734218263, 'mrs': 5.8523427151016625, 'multi': 5.264556050199543, 'multiple': 4.034265937556234, 'multitude': 5.637231335484717, 'muscles': 5.5158704784804495, 'music': 4.034265937556234, 'musical': 5.287028906051602, 'musicians': 5.574710978503383, 'must': 4.002314337749631, 'myself': 4.822723297920504, 'na': 4.560359033453013, 'nall': 4.7404851996835315, 'nalthough': 5.703922709983389, 'name': 5.028167272135313, 'nas': 4.2114061356081915, 'nation': 5.775381673965534, 'national': 5.382339085855927, 'native': 5.179398241859237, 'natural': 4.881563797943437, 'naturally': 5.775381673965534, 'nature': 5.3576464732655555, 'navigate': 5.6054826371701365, 'nbeing': 5.980176086611547, 'nby': 4.283726797187818, 'nchildren': 5.893164709621917, 'ncurrently': 5.893164709621917, 'ndespite': 5.1199748213884355, 'ndue': 5.935724324040713, 'neach': 5.179398241859237, 'near': 5.460300627325639, 'nearly': 5.221070938259804, 'necessary': 3.686723477180774, 'necessities': 5.6054826371701365, 'needed': 3.302897544176091, 'needing': 5.574710978503383, 'negative': 5.775381673965534, 'neighborhood': 3.8137231679420815, 'neighborhoods': 5.082234493405589, 'neven': 5.670021158307708, 'never': 3.664046768509744, 'nevery': 5.460300627325639, 'news': 5.264556050199543, 'next': 3.7005805118422, 'nflexible': 5.8523427151016625, 'nfor': 5.460300627325639, 'nhaving': 4.476098689835274, 'nice': 5.670021158307708, 'nif': 5.333548921686495, 'night': 5.310018424276301, 'nin': 3.9713521121456647, 'nit': 4.407779445857797, 'nmany': 4.2114061356081915, 'nmost': 5.200017529061972, 'no': 3.0872822592826727, 'noise': 5.8523427151016625, 'non': 4.180869411748109, 'none': 5.082234493405589, 'nonfiction': 5.5158704784804495, 'normal': 5.893164709621917, 'north': 5.310018424276301, 'notebook': 5.703922709983389, 'notebooks': 5.333548921686495, 'notes': 5.082234493405589, 'nothing': 4.881563797943437, 'noticed': 5.574710978503383, 'nour': 3.112793846940081, 'novel': 5.287028906051602, 'novels': 4.993681096064144, 'now': 3.411736324210242, 'nplease': 5.242577143480768, 'nreading': 5.935724324040713, 'nsince': 5.703922709983389, 'nsome': 5.8523427151016625, 'nstudents': 3.603158398834732, 'ntechnology': 5.287028906051602, 'nthank': 5.287028906051602, 'nthere': 5.310018424276301, 'nthese': 3.3774864011671637, 'nthey': 3.6913211864294033, 'nthis': 3.5143904782703252, 'nthrough': 5.775381673965534, 'number': 3.861732387128442, 'numbers': 4.714509713280272, 'numerous': 5.637231335484717, 'nurturing': 5.487699601513753, 'nusing': 5.775381673965534, 'nutrition': 5.739014029794659, 'nwe': 3.275160789204491, 'nwhat': 5.8523427151016625, 'nwhen': 4.837112035372604, 'nwhile': 5.574710978503383, 'nwith': 4.188416617383492, 'nyour': 4.780759098821472, 'objects': 5.1199748213884355, 'observe': 5.460300627325639, 'obstacles': 4.701770687502842, 'obtain': 5.407656893840216, 'odds': 5.813122001948381, 'off': 3.92372406315641, 'offer': 3.9898141749854, 'offered': 5.433632380243477, 'offering': 5.544858015353702, 'offers': 5.221070938259804, 'old': 3.611633025825704, 'older': 5.221070938259804, 'olds': 4.794552420953808, 'once': 4.129576117360559, 'ones': 4.582582170237723, 'online': 4.115391482368603, 'onto': 5.544858015353702, 'open': 4.087611918261526, 'opens': 5.980176086611547, 'option': 4.652377932173265, 'options': 3.840109923115276, 'oral': 5.935724324040713, 'order': 3.079753992861881, 'org': 5.980176086611547, 'organization': 5.407656893840216, 'organizational': 5.980176086611547, 'organize': 4.960344675796552, 'organized': 4.115391482368603, 'original': 5.813122001948381, 'osmo': 5.703922709983389, 'others': 3.1416293965799684, 'otherwise': 5.0107755294234435, 'ourselves': 5.100926626417741, 'outdated': 5.544858015353702, 'outdoor': 5.893164709621917, 'outlet': 5.0107755294234435, 'outside': 3.254107380006659, 'overall': 4.912335456610191, 'overcome': 4.7537304264335525, 'overwhelming': 5.980176086611547, 'ownership': 4.912335456610191, 'pace': 5.100926626417741, 'page': 5.739014029794659, 'pages': 5.8523427151016625, 'paint': 5.310018424276301, 'painting': 5.813122001948381, 'paper': 3.67305583845211, 'papers': 5.242577143480768, 'parent': 4.067272234024404, 'parental': 5.935724324040713, 'parents': 3.216146617767436, 'participants': 5.935724324040713, 'participate': 3.6374965364156235, 'participating': 5.063885354737392, 'participation': 5.333548921686495, 'particular': 5.139392907245537, 'particularly': 5.980176086611547, 'partner': 5.045866849234714, 'partners': 5.637231335484717, 'parts': 4.727413118116179, 'pass': 5.8523427151016625, 'passion': 4.436489551740227, 'passionate': 4.7537304264335525, 'past': 4.021362532720326, 'path': 4.652377932173265, 'pay': 5.433632380243477, 'pe': 5.1199748213884355, 'peer': 5.460300627325639, 'peers': 3.659572488114823, 'pen': 5.980176086611547, 'pencil': 4.593881725491657, 'pencils': 4.309044605172106, 'pens': 5.637231335484717, 'people': 3.5740503146766613, 'per': 4.896831270074226, 'percent': 4.446245726685592, 'percentage': 5.082234493405589, 'perfect': 4.42682764082849, 'perform': 4.628567283479546, 'performance': 4.605310421315279, 'performing': 4.976873977747762, 'period': 5.221070938259804, 'periods': 5.100926626417741, 'perseverance': 5.739014029794659, 'persevere': 5.382339085855927, 'person': 5.264556050199543, 'personal': 3.953224727553108, 'personalities': 5.264556050199543, 'personalized': 5.980176086611547, 'personally': 5.935724324040713, 'perspective': 5.8523427151016625, 'phone': 5.935724324040713, 'phones': 5.703922709983389, 'phonics': 5.433632380243477, 'photos': 5.980176086611547, 'physical': 3.6775909936175015, 'physically': 4.912335456610191, 'pick': 5.159195534541717, 'picture': 4.780759098821472, 'pictures': 4.466048353981772, 'piece': 5.200017529061972, 'pieces': 4.866525920578897, 'pillows': 5.574710978503383, 'placed': 5.310018424276301, 'places': 4.517341648369323, 'plan': 4.101405240393863, 'planning': 5.544858015353702, 'plans': 5.333548921686495, 'plant': 5.6054826371701365, 'plants': 5.433632380243477, 'plastic': 5.310018424276301, 'play': 3.1740646723331225, 'players': 5.574710978503383, 'playground': 5.574710978503383, 'playing': 3.9413198250467896, 'plays': 5.813122001948381, 'please': 3.8782616890796526, 'pleasure': 5.287028906051602, 'plus': 5.574710978503383, 'point': 5.0107755294234435, 'points': 5.813122001948381, 'poor': 5.200017529061972, 'popular': 5.264556050199543, 'population': 3.3707749665791766, 'portable': 5.5158704784804495, 'portion': 5.893164709621917, 'position': 5.8523427151016625, 'positive': 3.2511356096175015, 'possibilities': 4.944084154924772, 'possible': 3.391045930952796, 'possibly': 5.6054826371701365, 'post': 5.487699601513753, 'posters': 5.703922709983389, 'posture': 5.242577143480768, 'potential': 3.6685411580975837, 'power': 4.66449929270561, 'powerful': 5.221070938259804, 'practice': 3.0575033839270613, 'practices': 5.5158704784804495, 'practicing': 4.993681096064144, 'pre': 4.317628348863499, 'precious': 5.935724324040713, 'prefer': 5.935724324040713, 'prek': 5.935724324040713, 'prepare': 3.861732387128442, 'prepared': 4.640401741126549, 'preparing': 5.221070938259804, 'preschool': 5.045866849234714, 'present': 4.582582170237723, 'presentation': 5.5158704784804495, 'presentations': 4.727413118116179, 'presented': 5.139392907245537, 'pretty': 5.8523427151016625, 'prevent': 5.264556050199543, 'previous': 5.487699601513753, 'previously': 5.813122001948381, 'price': 4.2114061356081915, 'pride': 4.317628348863499, 'primarily': 5.179398241859237, 'primary': 4.960344675796552, 'print': 4.538619046816607, 'printed': 5.813122001948381, 'printer': 4.7537304264335525, 'printing': 5.935724324040713, 'prior': 5.739014029794659, 'priority': 5.544858015353702, 'privilege': 5.433632380243477, 'problem': 3.454447442303292, 'problems': 3.7530985461256465, 'process': 3.724111009252394, 'processing': 5.670021158307708, 'produce': 5.179398241859237, 'product': 5.775381673965534, 'productive': 4.517341648369323, 'products': 5.287028906051602, 'professional': 5.460300627325639, 'proficiency': 5.893164709621917, 'proficient': 5.893164709621917, 'program': 3.023846360923585, 'programming': 5.574710978503383, 'programs': 3.840109923115276, 'progress': 4.456098023128604, 'projector': 5.433632380243477, 'projects': 3.0214850847379053, 'promote': 4.188416617383492, 'promotes': 5.544858015353702, 'proper': 4.652377932173265, 'properly': 5.333548921686495, 'protect': 5.775381673965534, 'proud': 4.242904802667562, 'proven': 5.407656893840216, 'provided': 4.2590341845974455, 'provides': 4.067272234024404, 'providing': 3.4364289368006133, 'public': 3.8085283510649774, 'pull': 5.5158704784804495, 'purchase': 4.560359033453013, 'purchased': 5.063885354737392, 'purchasing': 5.8523427151016625, 'purpose': 5.100926626417741, 'purposes': 5.980176086611547, 'pursue': 5.775381673965534, 'push': 4.616871243716355, 'pushing': 5.935724324040713, 'put': 3.67305583845211, 'puts': 5.935724324040713, 'putting': 5.460300627325639, 'puzzles': 5.670021158307708, 'qualify': 4.300533915504198, 'quality': 3.824194467809377, 'question': 4.960344675796552, 'questions': 3.953224727553108, 'quick': 5.333548921686495, 'quickly': 4.701770687502842, 'quiet': 5.159195534541717, 'quietly': 5.935724324040713, 'quite': 4.8517108347937565, 'quote': 5.893164709621917, 'raise': 5.739014029794659, 'raised': 4.896831270074226, 'range': 3.5338842729513265, 'ranging': 5.407656893840216, 'rarely': 5.703922709983389, 'rate': 4.593881725491657, 'rates': 5.893164709621917, 'rather': 4.446245726685592, 'ratio': 5.935724324040713, 're': 4.188416617383492, 'reach': 3.5822808138131768, 'reaching': 5.433632380243477, 'reader': 4.714509713280272, 'readers': 3.4047918518574307, 'readily': 5.703922709983389, 'real': 3.4802315594590065, 'reality': 4.676769385297424, 'realize': 4.881563797943437, 'really': 3.454447442303292, 'reason': 5.063885354737392, 'reasoning': 5.980176086611547, 'reasons': 5.487699601513753, 'received': 5.544858015353702, 'receives': 5.287028906051602, 'receiving': 4.242904802667562, 'recent': 5.6054826371701365, 'recently': 4.593881725491657, 'recess': 4.5068703485020265, 'recognition': 5.460300627325639, 'recognize': 5.6054826371701365, 'record': 4.960344675796552, 'recording': 5.8523427151016625, 'reduce': 5.333548921686495, 'refer': 5.739014029794659, 'reflect': 5.739014029794659, 'regardless': 4.837112035372604, 'regular': 4.370738174177447, 'regularly': 5.980176086611547, 'reinforce': 4.780759098821472, 'relate': 5.179398241859237, 'related': 4.912335456610191, 'relationships': 5.045866849234714, 'relax': 5.739014029794659, 'relaxed': 5.980176086611547, 'release': 5.574710978503383, 'relevant': 5.287028906051602, 'reluctant': 5.703922709983389, 'rely': 5.637231335484717, 'remain': 5.310018424276301, 'remember': 4.605310421315279, 'reports': 5.980176086611547, 'represent': 5.045866849234714, 'request': 5.670021158307708, 'requested': 4.060583245873607, 'requesting': 3.6913211864294033, 'require': 4.326286411606613, 'required': 4.517341648369323, 'requires': 4.960344675796552, 'research': 3.1363243443502755, 'researching': 5.3576464732655555, 'resilient': 5.5158704784804495, 'resource': 4.4172581898123395, 'respect': 5.139392907245537, 'respectful': 5.287028906051602, 'respond': 5.460300627325639, 'response': 5.703922709983389, 'responsibility': 4.616871243716355, 'responsible': 4.640401741126549, 'rest': 4.676769385297424, 'result': 4.866525920578897, 'results': 5.242577143480768, 'retain': 5.980176086611547, 'return': 5.574710978503383, 'review': 5.3576464732655555, 'reward': 5.670021158307708, 'rewarding': 5.670021158307708, 'rewards': 5.980176086611547, 'rich': 4.42682764082849, 'right': 3.5947549880383525, 'rigor': 5.893164709621917, 'rigorous': 4.714509713280272, 'rise': 5.6054826371701365, 'risk': 4.976873977747762, 'risks': 5.544858015353702, 'road': 5.8523427151016625, 'robotics': 5.487699601513753, 'robots': 5.3576464732655555, 'rock': 5.775381673965534, 'role': 4.896831270074226, 'room': 3.138973352521852, 'rotate': 5.739014029794659, 'rotation': 5.813122001948381, 'rotations': 5.813122001948381, 'rounded': 5.544858015353702, 'routine': 5.487699601513753, 'routines': 5.775381673965534, 'rug': 4.7537304264335525, 'rules': 5.893164709621917, 'run': 4.49650756146648, 'running': 5.045866849234714, 'rural': 3.7146322652978507, 'safe': 3.094867630671929, 'safely': 5.813122001948381, 'safety': 5.1199748213884355, 'said': 4.640401741126549, 'same': 3.2305768825964645, 'san': 5.980176086611547, 'save': 5.3576464732655555, 'savvy': 5.935724324040713, 'say': 4.309044605172106, 'saying': 5.935724324040713, 'scale': 5.980176086611547, 'schedule': 5.893164709621917, 'scholars': 4.466048353981772, 'scholastic': 5.264556050199543, 'schools': 3.67305583845211, 'scientific': 4.7404851996835315, 'scientists': 4.676769385297424, 'scissors': 5.670021158307708, 'scores': 5.333548921686495, 'screen': 5.1199748213884355, 'searching': 5.980176086611547, 'season': 5.739014029794659, 'seat': 4.896831270074226, 'seated': 5.670021158307708, 'seating': 3.3541908385636416, 'seats': 4.476098689835274, 'second': 3.357485734460494, 'section': 5.703922709983389, 'secure': 5.935724324040713, 'seeing': 4.66449929270561, 'seek': 5.333548921686495, 'seeking': 5.637231335484717, 'seem': 4.993681096064144, 'seems': 5.487699601513753, 'seen': 4.326286411606613, 'select': 5.5158704784804495, 'selected': 5.287028906051602, 'selection': 5.8523427151016625, 'self': 3.590579616627872, 'send': 5.382339085855927, 'sense': 4.129576117360559, 'sensory': 4.616871243716355, 'sent': 5.935724324040713, 'sentences': 5.935724324040713, 'series': 5.333548921686495, 'serve': 4.188416617383492, 'serves': 4.436489551740227, 'service': 5.200017529061972, 'services': 4.676769385297424, 'serving': 5.739014029794659, 'sessions': 5.893164709621917, 'set': 3.1906855535691627, 'sets': 4.538619046816607, 'setting': 3.917926945472084, 'settings': 5.813122001948381, 'seven': 5.287028906051602, 'several': 3.4257716423266253, 'severe': 5.670021158307708, 'shape': 5.382339085855927, 'shapes': 5.407656893840216, 'share': 3.207587364371766, 'shared': 4.689191905295981, 'sharing': 4.66449929270561, 'she': 5.5158704784804495, 'shelves': 5.980176086611547, 'shine': 5.6054826371701365, 'shoes': 5.813122001948381, 'short': 4.808538662928548, 'should': 3.8294715249102205, 'shouldn': 5.935724324040713, 'show': 3.3378772630721176, 'showcase': 5.893164709621917, 'showing': 5.333548921686495, 'shown': 4.822723297920504, 'shows': 4.767153446765693, 'siblings': 5.935724324040713, 'side': 5.242577143480768, 'sight': 5.200017529061972, 'significant': 5.287028906051602, 'significantly': 5.739014029794659, 'similar': 5.544858015353702, 'simple': 4.317628348863499, 'simply': 4.476098689835274, 'since': 3.850862714891538, 'sing': 5.3576464732655555, 'singing': 5.6054826371701365, 'single': 3.850862714891538, 'sit': 3.2812583690726096, 'sitting': 3.6685411580975837, 'situation': 5.310018424276301, 'situations': 4.517341648369323, 'six': 4.794552420953808, 'sixth': 5.159195534541717, 'size': 5.063885354737392, 'sizes': 5.893164709621917, 'skill': 4.074006266205748, 'smaller': 5.637231335484717, 'smart': 4.652377932173265, 'smile': 4.628567283479546, 'smiles': 4.960344675796552, 'smiling': 5.739014029794659, 'snack': 5.5158704784804495, 'snacks': 5.3576464732655555, 'soak': 5.980176086611547, 'soar': 5.935724324040713, 'soccer': 5.433632380243477, 'social': 3.120575987382136, 'socially': 5.045866849234714, 'society': 4.36168833865753, 'socio': 4.727413118116179, 'socioeconomic': 3.67305583845211, 'soft': 5.813122001948381, 'software': 5.433632380243477, 'solution': 5.460300627325639, 'solutions': 5.433632380243477, 'solve': 4.143964854812658, 'solvers': 5.5158704784804495, 'solving': 3.9413198250467896, 'someone': 4.912335456610191, 'something': 3.3774864011671637, 'sometimes': 4.021362532720326, 'songs': 5.433632380243477, 'soon': 5.670021158307708, 'sound': 5.1199748213884355, 'sounds': 4.701770687502842, 'source': 5.893164709621917, 'sources': 5.893164709621917, 'south': 4.866525920578897, 'southern': 5.813122001948381, 'space': 3.5105369089543355, 'spaces': 5.433632380243477, 'spanish': 4.701770687502842, 'spark': 5.460300627325639, 'speak': 4.143964854812658, 'speakers': 5.703922709983389, 'speaking': 4.714509713280272, 'specific': 4.456098023128604, 'specifically': 5.200017529061972, 'spectrum': 5.264556050199543, 'speech': 5.310018424276301, 'spelling': 5.242577143480768, 'spend': 4.165943761531434, 'spending': 5.935724324040713, 'spent': 5.100926626417741, 'spirit': 5.739014029794659, 'spite': 5.980176086611547, 'spoken': 5.670021158307708, 'spontaneous': 5.775381673965534, 'sport': 5.287028906051602, 'sports': 4.689191905295981, 'spot': 4.944084154924772, 'spots': 5.935724324040713, 'spread': 5.574710978503383, 'spring': 5.6054826371701365, 'stability': 4.866525920578897, 'staff': 4.136744606839171, 'stage': 5.813122001948381, 'stamina': 5.813122001948381, 'stand': 4.616871243716355, 'standard': 5.264556050199543, 'standardized': 5.775381673965534, 'standards': 4.014972734621555, 'standing': 4.928083813578331, 'stars': 5.935724324040713, 'start': 3.5537656435051552, 'started': 4.538619046816607, 'starting': 4.896831270074226, 'starts': 5.893164709621917, 'state': 3.8782616890796526, 'states': 4.866525920578897, 'station': 4.560359033453013, 'stations': 4.42682764082849, 'status': 4.36168833865753, 'stay': 3.6374965364156235, 'staying': 5.139392907245537, 'steam': 4.944084154924772, 'stem': 3.9713521121456647, 'step': 4.605310421315279, 'steps': 5.333548921686495, 'stick': 5.8523427151016625, 'sticks': 5.813122001948381, 'still': 3.2904750241775336, 'stool': 5.544858015353702, 'stools': 4.2349366330183855, 'stop': 4.837112035372604, 'storage': 4.7404851996835315, 'store': 4.389087312845644, 'stories': 3.7982189814061162, 'story': 4.151237614141738, 'strategies': 4.250936974364826, 'strength': 5.0107755294234435, 'strengthen': 5.045866849234714, 'strengths': 5.159195534541717, 'stress': 5.0107755294234435, 'stretch': 5.460300627325639, 'stricken': 5.935724324040713, 'strive': 3.615897424612162, 'striving': 5.460300627325639, 'strong': 3.9652730660692823, 'stronger': 5.264556050199543, 'structure': 5.264556050199543, 'structured': 5.6054826371701365, 'structures': 5.487699601513753, 'struggle': 3.487722231188164, 'struggles': 4.701770687502842, 'struggling': 4.034265937556234, 'studies': 3.748208560831455, 'study': 4.335020091575368, 'studying': 5.1199748213884355, 'style': 4.944084154924772, 'styles': 4.343830721257523, 'subject': 4.20368408951428, 'subjects': 4.476098689835274, 'suburban': 5.670021158307708, 'succeed': 3.4654164736738657, 'success': 3.0429400197391647, 'successes': 5.8523427151016625, 'successfully': 5.574710978503383, 'summer': 5.6054826371701365, 'super': 5.407656893840216, 'supplement': 5.813122001948381, 'supply': 4.866525920578897, 'supported': 5.460300627325639, 'supporting': 5.028167272135313, 'supportive': 4.701770687502842, 'supports': 4.912335456610191, 'sure': 3.7679136319107873, 'surrounded': 5.6054826371701365, 'surrounding': 5.574710978503383, 'sweet': 5.045866849234714, 'system': 4.379870657740719, 'systems': 5.670021158307708, 'table': 4.094484797549288, 'tables': 4.628567283479546, 'tablet': 5.6054826371701365, 'tablets': 4.456098023128604, 'tackle': 5.8523427151016625, 'tactile': 5.739014029794659, 'taken': 5.200017529061972, 'takes': 4.5068703485020265, 'taking': 4.115391482368603, 'talented': 4.912335456610191, 'talents': 5.407656893840216, 'talk': 4.714509713280272, 'talking': 5.544858015353702, 'tape': 5.813122001948381, 'target': 5.433632380243477, 'task': 4.034265937556234, 'tasks': 4.486251061299291, 'taught': 3.9774683391631007, 'teachers': 3.067331472863324, 'teaches': 5.264556050199543, 'team': 3.889434989677778, 'teams': 5.487699601513753, 'teamwork': 5.3576464732655555, 'tech': 5.287028906051602, 'techniques': 5.1199748213884355, 'technological': 5.179398241859237, 'tell': 4.549429962920822, 'telling': 5.739014029794659, 'ten': 5.200017529061972, 'tend': 5.382339085855927, 'term': 5.893164709621917, 'test': 4.398389705507957, 'testing': 4.928083813578331, 'tests': 5.100926626417741, 'texas': 5.670021158307708, 'text': 3.9413198250467896, 'textbooks': 5.703922709983389, 'texts': 4.652377932173265, 'thank': 4.008623506942897, 'thanks': 5.574710978503383, 'theme': 5.775381673965534, 'then': 3.4839698815696134, 'therefore': 4.370738174177447, 'thing': 4.122458649591694, 'think': 3.529954994811437, 'thinkers': 4.398389705507957, 'thinking': 3.4914887139836406, 'third': 3.850862714891538, 'thirst': 5.407656893840216, 'those': 3.2511356096175015, 'though': 4.115391482368603, 'thought': 5.221070938259804, 'thoughtful': 5.980176086611547, 'thoughts': 5.221070938259804, 'three': 3.9652730660692823, 'thrilled': 5.670021158307708, 'thrive': 4.517341648369323, 'throughout': 3.0772571126632937, 'thus': 5.063885354737392, 'tight': 5.221070938259804, 'times': 3.5221424550746434, 'titles': 5.544858015353702, 'today': 3.906432566046349, 'told': 5.221070938259804, 'tomorrow': 5.670021158307708, 'too': 3.895068807396034, 'took': 5.8523427151016625, 'tool': 3.9413198250467896, 'tools': 3.0772571126632937, 'top': 4.7537304264335525, 'topic': 5.082234493405589, 'topics': 4.136744606839171, 'total': 5.703922709983389, 'touch': 4.976873977747762, 'tough': 5.460300627325639, 'toward': 5.139392907245537, 'towards': 4.309044605172106, 'town': 4.476098689835274, 'toys': 5.544858015353702, 'track': 4.993681096064144, 'traditional': 4.115391482368603, 'training': 5.670021158307708, 'transfer': 5.8523427151016625, 'transform': 5.775381673965534, 'transition': 5.045866849234714, 'travel': 5.242577143480768, 'tremendous': 5.6054826371701365, 'trips': 5.5158704784804495, 'trouble': 5.433632380243477, 'true': 4.36168833865753, 'truly': 3.7052425249480114, 'trust': 5.935724324040713, 'try': 3.367436065313662, 'trying': 3.9774683391631007, 'turn': 4.219188276050246, 'turns': 5.433632380243477, 'tv': 5.703922709983389, 'twenty': 5.264556050199543, 'twice': 5.8523427151016625, 'two': 3.2691001645928, 'type': 4.158563654233811, 'types': 4.250936974364826, 'typical': 4.292095046858334, 'typically': 5.221070938259804, 'typing': 5.6054826371701365, 'ultimate': 5.980176086611547, 'ultimately': 5.333548921686495, 'unable': 4.808538662928548, 'uncomfortable': 5.637231335484717, 'under': 5.0107755294234435, 'underprivileged': 5.980176086611547, 'understand': 3.603158398834732, 'understanding': 3.5658870040375, 'unfortunately': 4.014972734621555, 'unique': 3.4654164736738657, 'unit': 4.549429962920822, 'united': 5.159195534541717, 'units': 5.544858015353702, 'until': 4.896831270074226, 'upcoming': 5.637231335484717, 'updated': 5.8523427151016625, 'upon': 4.808538662928548, 'upper': 5.670021158307708, 'urban': 3.8727215087040374, 'useful': 5.487699601513753, 'uses': 5.100926626417741, 'usually': 5.1199748213884355, 'utilize': 4.275427994373121, 'utilized': 5.544858015353702, 'utilizing': 5.433632380243477, 'valuable': 5.082234493405589, 'value': 4.7537304264335525, 'valued': 5.813122001948381, 'values': 5.775381673965534, 'varied': 5.221070938259804, 'various': 3.3607915225949934, 'vary': 5.935724324040713, 'varying': 4.912335456610191, 'vast': 5.333548921686495, 've': 4.129576117360559, 'verbal': 5.6054826371701365, 'via': 5.487699601513753, 'vibrant': 5.487699601513753, 'video': 4.689191905295981, 'videos': 4.446245726685592, 'view': 5.0107755294234435, 'violence': 5.637231335484717, 'virtual': 5.6054826371701365, 'vision': 5.670021158307708, 'visit': 5.179398241859237, 'visual': 4.080785953191127, 'visualize': 5.980176086611547, 'visually': 5.980176086611547, 'vital': 5.100926626417741, 'vocabulary': 4.094484797549288, 'voice': 5.221070938259804, 'voices': 5.935724324040713, 'wait': 4.549429962920822, 'waiting': 5.487699601513753, 'walk': 3.758012560928076, 'walking': 5.264556050199543, 'walks': 5.100926626417741, 'wall': 5.6054826371701365, 'walls': 5.6054826371701365, 'wanted': 5.310018424276301, 'wanting': 5.028167272135313, 'wants': 5.460300627325639, 'warm': 4.928083813578331, 'was': 3.4187293597012127, 'washington': 5.813122001948381, 'watch': 4.560359033453013, 'watching': 4.960344675796552, 'water': 4.912335456610191, 'wear': 5.3576464732655555, 'weather': 5.242577143480768, 'web': 5.8523427151016625, 'website': 5.670021158307708, 'websites': 5.0107755294234435, 'week': 3.9898141749854, 'weekend': 5.100926626417741, 'weekends': 5.935724324040713, 'weekly': 4.928083813578331, 'weeks': 5.5158704784804495, 'welcome': 5.407656893840216, 'welcoming': 5.139392907245537, 'wellness': 5.980176086611547, 'went': 5.813122001948381, 'were': 3.495269436823547, 'west': 5.813122001948381, 'whatever': 5.200017529061972, 'whenever': 5.574710978503383, 'whether': 4.714509713280272, 'white': 4.822723297920504, 'whole': 3.682146810153362, 'whom': 5.487699601513753, 'whose': 5.703922709983389, 'why': 3.803360380906535, 'wide': 3.7193604064937964, 'wiggle': 4.538619046816607, 'wiggles': 5.310018424276301, 'willing': 4.3527196686747684, 'willingness': 5.935724324040713, 'win': 5.670021158307708, 'wish': 5.0107755294234435, 'within': 3.6201800864041624, 'without': 3.155016477362428, 'wobble': 4.476098689835274, 'won': 5.310018424276301, 'wonder': 5.159195534541717, 'wonderful': 3.364108275220987, 'word': 4.180869411748109, 'words': 3.624481168303553, 'worked': 5.200017529061972, 'workers': 5.159195534541717, 'works': 4.20368408951428, 'worksheets': 5.703922709983389, 'workshop': 5.242577143480768, 'worlds': 5.775381673965534, 'worry': 5.264556050199543, 'worth': 5.574710978503383, 'wouldn': 5.637231335484717, 'write': 3.5378290512423427, 'writers': 4.7404851996835315, 'written': 4.881563797943437, 'yes': 5.8523427151016625, 'yet': 3.743342371180282, 'yoga': 4.822723297920504, 'york': 5.5158704784804495, 'young': 3.302897544176091, 'younger': 5.544858015353702, 'youth': 5.813122001948381}\n"
     ]
    }
   ],
   "source": [
    "filtered_dict = dict()\n",
    "for (key, value) in dictionary_train.items():\n",
    "    # Check if key is even then add pair to new dictionary\n",
    "    if value < 3:\n",
    "        continue\n",
    "    elif value > 6:\n",
    "        continue\n",
    "    else :\n",
    "        filtered_dict[key] = value\n",
    "        # newDict[key] = value\n",
    "print('Filtered Dictionary : ')\n",
    "print(filtered_dict)"
   ]
  },
  {
   "cell_type": "code",
   "execution_count": 86,
   "metadata": {
    "scrolled": true
   },
   "outputs": [
    {
     "data": {
      "text/plain": [
       "2136"
      ]
     },
     "execution_count": 86,
     "metadata": {},
     "output_type": "execute_result"
    }
   ],
   "source": [
    "len(filtered_dict)"
   ]
  },
  {
   "cell_type": "code",
   "execution_count": 89,
   "metadata": {},
   "outputs": [],
   "source": [
    "# putting these words into a set\n",
    "\n",
    "words = []\n",
    "\n",
    "for (key, value) in filtered_dict.items():\n",
    "    words.append(key)"
   ]
  },
  {
   "cell_type": "code",
   "execution_count": 90,
   "metadata": {},
   "outputs": [
    {
     "data": {
      "text/plain": [
       "2136"
      ]
     },
     "execution_count": 90,
     "metadata": {},
     "output_type": "execute_result"
    }
   ],
   "source": [
    "len(words)"
   ]
  },
  {
   "cell_type": "code",
   "execution_count": 129,
   "metadata": {},
   "outputs": [
    {
     "name": "stdout",
     "output_type": "stream",
     "text": [
      "After featurization\n",
      "\n",
      "(3200, 2136) (3200,)\n",
      "(800, 2136) (800,)\n",
      "(1000, 2136) (1000,)\n"
     ]
    }
   ],
   "source": [
    "tf_idf.fit(words)\n",
    "\n",
    "x_train_tfidf = tf_idf.transform(x_train['essay']) \n",
    "x_cv_tfidf    = tf_idf.transform(x_cv['essay'])\n",
    "x_test_tfidf  = tf_idf.transform(x_test['essay'])\n",
    "\n",
    "print(\"After featurization\\n\")\n",
    "print(x_train_tfidf.shape, y_train.shape)\n",
    "print(x_cv_tfidf.shape,    y_cv.shape)\n",
    "print(x_test_tfidf.shape,  y_test.shape) "
   ]
  },
  {
   "cell_type": "markdown",
   "metadata": {},
   "source": [
    "## Tokenizing"
   ]
  },
  {
   "cell_type": "code",
   "execution_count": 130,
   "metadata": {},
   "outputs": [],
   "source": [
    "t = Tokenizer()\n",
    "t.fit_on_texts(words)\n",
    "vocab_size   = len(t.word_index) + 1\n",
    "encoded_train_essay = t.texts_to_sequences(x_train['essay'])"
   ]
  },
  {
   "cell_type": "code",
   "execution_count": 131,
   "metadata": {},
   "outputs": [
    {
     "data": {
      "text/plain": [
       "3200"
      ]
     },
     "execution_count": 131,
     "metadata": {},
     "output_type": "execute_result"
    }
   ],
   "source": [
    "len(encoded_train_essay)"
   ]
  },
  {
   "cell_type": "code",
   "execution_count": 132,
   "metadata": {},
   "outputs": [],
   "source": [
    "encoded_cv_essay   = t.texts_to_sequences(x_cv['essay'])\n",
    "encoded_test_essay = t.texts_to_sequences(x_test['essay'])"
   ]
  },
  {
   "cell_type": "code",
   "execution_count": 92,
   "metadata": {},
   "outputs": [],
   "source": [
    "\"\"\"\n",
    "encoded_cv_essay   = t.texts_to_sequences(words)\n",
    "encoded_test_essay = t.texts_to_sequences(words)\n",
    "\"\"\""
   ]
  },
  {
   "cell_type": "code",
   "execution_count": 133,
   "metadata": {},
   "outputs": [
    {
     "data": {
      "text/plain": [
       "1000"
      ]
     },
     "execution_count": 133,
     "metadata": {},
     "output_type": "execute_result"
    }
   ],
   "source": [
    "len(encoded_test_essay)"
   ]
  },
  {
   "cell_type": "markdown",
   "metadata": {},
   "source": [
    "## Padding"
   ]
  },
  {
   "cell_type": "code",
   "execution_count": 147,
   "metadata": {
    "scrolled": true
   },
   "outputs": [
    {
     "name": "stdout",
     "output_type": "stream",
     "text": [
      "[[ 473 1201  562 ...    0    0    0]\n",
      " [1549 1688 1199 ...    0    0    0]\n",
      " [1816  950 1591 ...    0    0    0]\n",
      " ...\n",
      " [1903 1163  923 ...    0    0    0]\n",
      " [2003 2005  812 ...    0    0    0]\n",
      " [1682 2093  341 ...    0    0    0]]\n"
     ]
    }
   ],
   "source": [
    "max_length   = 118\n",
    "padded_train_essay = pad_sequences(encoded_train_essay, maxlen= max_length, padding='post')\n",
    "print(padded_train_essay)"
   ]
  },
  {
   "cell_type": "code",
   "execution_count": 146,
   "metadata": {},
   "outputs": [
    {
     "name": "stdout",
     "output_type": "stream",
     "text": [
      "[[2005 1278  319 ...    0    0    0]\n",
      " [2005  342  855 ...    0    0    0]\n",
      " [1580 1688 2110 ...    0    0    0]\n",
      " ...\n",
      " [1722 1731  637 ...    0    0    0]\n",
      " [1490   44  331 ...    0    0    0]\n",
      " [1953  676  636 ...    0    0    0]]\n"
     ]
    }
   ],
   "source": [
    "max_length   = 118\n",
    "padded_cv_essay = pad_sequences(encoded_cv_essay, maxlen= max_length, padding='post')\n",
    "print(padded_cv_essay)"
   ]
  },
  {
   "cell_type": "code",
   "execution_count": 145,
   "metadata": {},
   "outputs": [
    {
     "name": "stdout",
     "output_type": "stream",
     "text": [
      "[[ 631 1236 1807 ...    0    0    0]\n",
      " [ 536  284  611 ...    0    0    0]\n",
      " [1253  823 1036 ...    0    0    0]\n",
      " ...\n",
      " [1662 1012  200 ...    0    0    0]\n",
      " [1762 1855  734 ...    0    0    0]\n",
      " [ 258 1013  288 ... 1375   65 1407]]\n"
     ]
    }
   ],
   "source": [
    "max_length   = 118\n",
    "padded_test_essay = pad_sequences(encoded_test_essay, maxlen= max_length, padding='post')\n",
    "print(padded_test_essay)"
   ]
  },
  {
   "cell_type": "code",
   "execution_count": 149,
   "metadata": {
    "scrolled": false
   },
   "outputs": [
    {
     "name": "stdout",
     "output_type": "stream",
     "text": [
      "__________________________________________________________________________________________________\n",
      "Layer (type)                    Output Shape         Param #     Connected to                     \n",
      "==================================================================================================\n",
      "ip_total_text (InputLayer)      (None, 118)          0                                            \n",
      "__________________________________________________________________________________________________\n",
      "embedding_25 (Embedding)        (None, 118, 128)     51200000    ip_total_text[0][0]              \n",
      "__________________________________________________________________________________________________\n",
      "ip_school_state (InputLayer)    (None, 1)            0                                            \n",
      "__________________________________________________________________________________________________\n",
      "ip_grade_category (InputLayer)  (None, 1)            0                                            \n",
      "__________________________________________________________________________________________________\n",
      "ip_clean_category (InputLayer)  (None, 1)            0                                            \n",
      "__________________________________________________________________________________________________\n",
      "ip_clean_subcategory (InputLaye (None, 1)            0                                            \n",
      "__________________________________________________________________________________________________\n",
      "ip_teacher_prefix (InputLayer)  (None, 1)            0                                            \n",
      "__________________________________________________________________________________________________\n",
      "lstm_5 (LSTM)                   (None, 118, 32)      20608       embedding_25[0][0]               \n",
      "__________________________________________________________________________________________________\n",
      "embedding_26 (Embedding)        (None, 1, 1)         51          ip_school_state[0][0]            \n",
      "__________________________________________________________________________________________________\n",
      "embedding_27 (Embedding)        (None, 1, 1)         4           ip_grade_category[0][0]          \n",
      "__________________________________________________________________________________________________\n",
      "embedding_28 (Embedding)        (None, 1, 1)         45          ip_clean_category[0][0]          \n",
      "__________________________________________________________________________________________________\n",
      "embedding_29 (Embedding)        (None, 1, 1)         219         ip_clean_subcategory[0][0]       \n",
      "__________________________________________________________________________________________________\n",
      "embedding_30 (Embedding)        (None, 1, 1)         4           ip_teacher_prefix[0][0]          \n",
      "__________________________________________________________________________________________________\n",
      "ip_combined_columns (InputLayer (None, 144)          0                                            \n",
      "__________________________________________________________________________________________________\n",
      "flatten_25 (Flatten)            (None, 3776)         0           lstm_5[0][0]                     \n",
      "__________________________________________________________________________________________________\n",
      "flatten_26 (Flatten)            (None, 1)            0           embedding_26[0][0]               \n",
      "__________________________________________________________________________________________________\n",
      "flatten_27 (Flatten)            (None, 1)            0           embedding_27[0][0]               \n",
      "__________________________________________________________________________________________________\n",
      "flatten_28 (Flatten)            (None, 1)            0           embedding_28[0][0]               \n",
      "__________________________________________________________________________________________________\n",
      "flatten_29 (Flatten)            (None, 1)            0           embedding_29[0][0]               \n",
      "__________________________________________________________________________________________________\n",
      "flatten_30 (Flatten)            (None, 1)            0           embedding_30[0][0]               \n",
      "__________________________________________________________________________________________________\n",
      "dense_21 (Dense)                (None, 64)           9280        ip_combined_columns[0][0]        \n",
      "__________________________________________________________________________________________________\n",
      "concatenate_5 (Concatenate)     (None, 3845)         0           flatten_25[0][0]                 \n",
      "                                                                 flatten_26[0][0]                 \n",
      "                                                                 flatten_27[0][0]                 \n",
      "                                                                 flatten_28[0][0]                 \n",
      "                                                                 flatten_29[0][0]                 \n",
      "                                                                 flatten_30[0][0]                 \n",
      "                                                                 dense_21[0][0]                   \n",
      "__________________________________________________________________________________________________\n",
      "dense_22 (Dense)                (None, 64)           246144      concatenate_5[0][0]              \n",
      "__________________________________________________________________________________________________\n",
      "dropout_9 (Dropout)             (None, 64)           0           dense_22[0][0]                   \n",
      "__________________________________________________________________________________________________\n",
      "dense_23 (Dense)                (None, 32)           2080        dropout_9[0][0]                  \n",
      "__________________________________________________________________________________________________\n",
      "dropout_10 (Dropout)            (None, 32)           0           dense_23[0][0]                   \n",
      "__________________________________________________________________________________________________\n",
      "dense_24 (Dense)                (None, 16)           528         dropout_10[0][0]                 \n",
      "__________________________________________________________________________________________________\n",
      "dense_25 (Dense)                (None, 2)            34          dense_24[0][0]                   \n",
      "==================================================================================================\n",
      "Total params: 51,478,997\n",
      "Trainable params: 51,478,997\n",
      "Non-trainable params: 0\n",
      "__________________________________________________________________________________________________\n",
      "None\n"
     ]
    }
   ],
   "source": [
    "ip_seq_total_text = Input(shape = (118,), name = 'ip_total_text')\n",
    "x = Embedding(output_dim=128, input_dim=400000, input_length=118)(ip_seq_total_text)\n",
    "x = LSTM(32, return_sequences=True)(x)\n",
    "x    = Flatten()(x)\n",
    "\n",
    "ip_school_state = Input(shape=(1,), name= 'ip_school_state')\n",
    "y  = Embedding(output_dim=1, input_dim=51, input_length=1)(ip_school_state)\n",
    "y  = Flatten()(y)\n",
    "\n",
    "ip_grade_category = Input(shape=(1,), name = 'ip_grade_category')\n",
    "z = Embedding(output_dim=1, input_dim=4, input_length=1)(ip_grade_category)\n",
    "z = Flatten()(z)\n",
    "\n",
    "ip_clean_category = Input(shape=(1,), name = 'ip_clean_category')\n",
    "a = Embedding(output_dim=1, input_dim=45, input_length=1)(ip_clean_category)\n",
    "a = Flatten()(a)\n",
    "\n",
    "ip_clean_subcategory= Input(shape=(1,), name ='ip_clean_subcategory')\n",
    "b = Embedding(output_dim=1, input_dim=219, input_length=1)(ip_clean_subcategory)\n",
    "b = Flatten()(b)\n",
    "\n",
    "ip_teacher_prefix= Input(shape=(1,), name ='ip_teacher_prefix')\n",
    "c = Embedding(output_dim=1, input_dim=4, input_length=1)(ip_teacher_prefix)\n",
    "c = Flatten()(c)\n",
    "\n",
    "ip_combined_columns = Input(shape=(144,), name= 'ip_combined_columns')\n",
    "d = Dense(64, activation='relu')(ip_combined_columns)\n",
    "#\"\"\"\n",
    "model = concatenate([x,y,z,a,b,c,d])\n",
    "model = Dense(64, activation='relu')(model)\n",
    "model = Dropout(0.5)(model)\n",
    "\n",
    "model = Dense(32, activation='relu')(model)\n",
    "model = Dropout(0.25)(model)\n",
    "\n",
    "model = Dense(16, activation='relu')(model)\n",
    "output_layer = Dense(2, activation=\"sigmoid\")(model)\n",
    "\n",
    "model = Model(inputs = [ip_seq_total_text,ip_school_state,ip_grade_category,ip_clean_category,ip_clean_subcategory, ip_teacher_prefix, ip_combined_columns], outputs= output_layer)\n",
    "# Compiling the model\n",
    "model.compile(loss='sparse_categorical_crossentropy',\n",
    "              optimizer='adam',\n",
    "              metrics=['accuracy'])\n",
    "print(model.summary())"
   ]
  },
  {
   "cell_type": "code",
   "execution_count": 156,
   "metadata": {
    "scrolled": false
   },
   "outputs": [
    {
     "name": "stdout",
     "output_type": "stream",
     "text": [
      "Train on 3200 samples, validate on 800 samples\n",
      "Epoch 1/10\n",
      " - 24s - loss: 5.1854e-05 - acc: 1.0000 - val_loss: 2.8190 - val_acc: 0.7863\n",
      "Epoch 2/10\n",
      " - 24s - loss: 3.0572e-04 - acc: 0.9997 - val_loss: 2.8325 - val_acc: 0.7863\n",
      "Epoch 3/10\n",
      " - 23s - loss: 3.4679e-05 - acc: 1.0000 - val_loss: 2.8438 - val_acc: 0.7863\n",
      "Epoch 4/10\n",
      " - 24s - loss: 4.2036e-05 - acc: 1.0000 - val_loss: 2.8557 - val_acc: 0.7850\n",
      "Epoch 5/10\n",
      " - 26s - loss: 1.6915e-04 - acc: 1.0000 - val_loss: 2.8927 - val_acc: 0.7825\n",
      "Epoch 6/10\n",
      " - 30s - loss: 5.5480e-05 - acc: 1.0000 - val_loss: 2.9049 - val_acc: 0.7837\n",
      "Epoch 7/10\n",
      " - 27s - loss: 5.9717e-05 - acc: 1.0000 - val_loss: 2.9107 - val_acc: 0.7837\n",
      "Epoch 8/10\n",
      " - 28s - loss: 4.4371e-05 - acc: 1.0000 - val_loss: 2.9051 - val_acc: 0.7837\n",
      "Epoch 9/10\n",
      " - 29s - loss: 9.2774e-05 - acc: 1.0000 - val_loss: 2.9049 - val_acc: 0.7863\n",
      "Epoch 10/10\n",
      " - 28s - loss: 1.8611e-04 - acc: 1.0000 - val_loss: 2.9048 - val_acc: 0.7863\n"
     ]
    }
   ],
   "source": [
    "plot = model.fit([padded_train_essay, x_train['school_state'], x_train['project_grade_category'], x_train['clean_categories'], x_train['clean_subcategories'], x_train['teacher_prefix'], x_train_remaining_cols],y_train, epochs=10, batch_size=128, verbose=2, validation_data=([padded_cv_essay, x_cv['school_state'], x_cv['project_grade_category'], x_cv['clean_categories'], x_cv['clean_subcategories'], x_cv['teacher_prefix'], x_cv_remaining_cols], y_cv))"
   ]
  },
  {
   "cell_type": "markdown",
   "metadata": {},
   "source": [
    "# Model 3:"
   ]
  },
  {
   "cell_type": "markdown",
   "metadata": {},
   "source": [
    "## Encoding categorical features using OneHot encoder"
   ]
  },
  {
   "cell_type": "code",
   "execution_count": 39,
   "metadata": {},
   "outputs": [],
   "source": [
    "list_of_categorical_features = ['school_state', 'teacher_prefix', 'project_grade_category', 'teacher_number_of_previously_posted_projects', 'clean_categories', 'clean_subcategories',  'is_digit_present']"
   ]
  },
  {
   "cell_type": "code",
   "execution_count": 40,
   "metadata": {},
   "outputs": [
    {
     "data": {
      "text/plain": [
       "7"
      ]
     },
     "execution_count": 40,
     "metadata": {},
     "output_type": "execute_result"
    }
   ],
   "source": [
    "len(list_of_categorical_features)"
   ]
  },
  {
   "cell_type": "code",
   "execution_count": 49,
   "metadata": {},
   "outputs": [
    {
     "data": {
      "text/plain": [
       "OneHotEncoder(categorical_features=None, categories=None, drop=None,\n",
       "              dtype=<class 'numpy.float64'>, handle_unknown='error',\n",
       "              n_values=None, sparse=False)"
      ]
     },
     "execution_count": 49,
     "metadata": {},
     "output_type": "execute_result"
    }
   ],
   "source": [
    "# encoding categorical features  --------->    https://towardsdatascience.com/encoding-categorical-features-21a2651a065c\n",
    "\n",
    "#ohe = CountVectorizer()\n",
    "ohe = OneHotEncoder(sparse=False) \n",
    "ohe.fit(x_train[list_of_categorical_features])"
   ]
  },
  {
   "cell_type": "code",
   "execution_count": 50,
   "metadata": {},
   "outputs": [
    {
     "name": "stdout",
     "output_type": "stream",
     "text": [
      "(3200, 467)\n",
      "(800, 467)\n",
      "(1000, 467)\n"
     ]
    }
   ],
   "source": [
    "x_train_ohe = ohe.transform(x_train[list_of_categorical_features])\n",
    "x_cv_ohe    = ohe.transform(x_cv[list_of_categorical_features])\n",
    "x_test_ohe  = ohe.transform(x_test[list_of_categorical_features])\n",
    "print(x_train_ohe.shape)\n",
    "print(x_cv_ohe.shape)\n",
    "print(x_test_ohe.shape)"
   ]
  },
  {
   "cell_type": "markdown",
   "metadata": {},
   "source": [
    "Reshaping the train, cv and test data"
   ]
  },
  {
   "cell_type": "code",
   "execution_count": 89,
   "metadata": {},
   "outputs": [],
   "source": [
    "x_train_ohe = x_train_ohe.reshape(-1, 467, 1)\n",
    "x_cv_ohe    = x_cv_ohe.reshape(-1, 467, 1)\n",
    "x_test_ohe  = x_test_ohe.reshape(-1, 467, 1)\n"
   ]
  },
  {
   "cell_type": "code",
   "execution_count": 91,
   "metadata": {},
   "outputs": [
    {
     "name": "stdout",
     "output_type": "stream",
     "text": [
      "(3200, 467, 1)\n",
      "(800, 467, 1)\n",
      "(1000, 467, 1)\n"
     ]
    }
   ],
   "source": [
    "# printing new 3 dimensional shapes of our one hot encodeded data\n",
    "print(x_train_ohe.shape)\n",
    "print(x_cv_ohe.shape)\n",
    "print(x_test_ohe.shape)"
   ]
  },
  {
   "cell_type": "code",
   "execution_count": 100,
   "metadata": {
    "scrolled": false
   },
   "outputs": [
    {
     "name": "stdout",
     "output_type": "stream",
     "text": [
      "__________________________________________________________________________________________________\n",
      "Layer (type)                    Output Shape         Param #     Connected to                     \n",
      "==================================================================================================\n",
      "total_data (InputLayer)         (None, 400)          0                                            \n",
      "__________________________________________________________________________________________________\n",
      "no_text_data (InputLayer)       (None, 467, 1)       0                                            \n",
      "__________________________________________________________________________________________________\n",
      "embedding_32 (Embedding)        (None, 400, 128)     51200000    total_data[0][0]                 \n",
      "__________________________________________________________________________________________________\n",
      "conv1d_31 (Conv1D)              (None, 464, 32)      160         no_text_data[0][0]               \n",
      "__________________________________________________________________________________________________\n",
      "lstm_22 (LSTM)                  (None, 400, 32)      20608       embedding_32[0][0]               \n",
      "__________________________________________________________________________________________________\n",
      "conv1d_32 (Conv1D)              (None, 457, 16)      4112        conv1d_31[0][0]                  \n",
      "__________________________________________________________________________________________________\n",
      "flatten_43 (Flatten)            (None, 12800)        0           lstm_22[0][0]                    \n",
      "__________________________________________________________________________________________________\n",
      "flatten_44 (Flatten)            (None, 7312)         0           conv1d_32[0][0]                  \n",
      "__________________________________________________________________________________________________\n",
      "concatenate_14 (Concatenate)    (None, 20112)        0           flatten_43[0][0]                 \n",
      "                                                                 flatten_44[0][0]                 \n",
      "__________________________________________________________________________________________________\n",
      "dense_53 (Dense)                (None, 64)           1287232     concatenate_14[0][0]             \n",
      "__________________________________________________________________________________________________\n",
      "dropout_27 (Dropout)            (None, 64)           0           dense_53[0][0]                   \n",
      "__________________________________________________________________________________________________\n",
      "dense_54 (Dense)                (None, 64)           4160        dropout_27[0][0]                 \n",
      "__________________________________________________________________________________________________\n",
      "dropout_28 (Dropout)            (None, 64)           0           dense_54[0][0]                   \n",
      "__________________________________________________________________________________________________\n",
      "dense_55 (Dense)                (None, 32)           2080        dropout_28[0][0]                 \n",
      "__________________________________________________________________________________________________\n",
      "dense_56 (Dense)                (None, 2)            66          dense_55[0][0]                   \n",
      "==================================================================================================\n",
      "Total params: 52,518,418\n",
      "Trainable params: 52,518,418\n",
      "Non-trainable params: 0\n",
      "__________________________________________________________________________________________________\n",
      "None\n"
     ]
    }
   ],
   "source": [
    "ip_seq_total_data1 = Input(shape=(400,), name='total_data')\n",
    "x1 = Embedding(input_dim=400000, output_dim=128, input_length=400)(ip_seq_total_data1)\n",
    "x1 = LSTM(32, return_sequences=True)(x1)\n",
    "x1 = Flatten()(x1)\n",
    "\n",
    "other_than_text_data = Input(shape=(467, 1), name='no_text_data')\n",
    "y1 = Conv1D(filters=32, kernel_size=4, activation='relu')(other_than_text_data)\n",
    "y1 = Conv1D(filters=16, kernel_size=8, activation='relu')(y1)\n",
    "y1 = Flatten()(y1)\n",
    "\n",
    "model = concatenate([x1, y1])\n",
    "\n",
    "model = Dense(64, activation='relu')(model)\n",
    "model = Dropout(0.5)(model)\n",
    "model = Dense(64, activation='relu')(model)\n",
    "model = Dropout(0.25)(model)\n",
    "model = Dense(32, activation='relu')(model)\n",
    "output_layer = Dense(2, activation='softmax')(model)\n",
    "\n",
    "\n",
    "model_3 = Model(inputs = [ip_seq_total_data1,other_than_text_data], outputs= output_layer)\n",
    "# Compiling the model\n",
    "model_3.compile(loss='sparse_categorical_crossentropy',\n",
    "              optimizer='adam',\n",
    "              metrics=['accuracy'])\n",
    "print(model_3.summary())"
   ]
  },
  {
   "cell_type": "code",
   "execution_count": 101,
   "metadata": {
    "scrolled": false
   },
   "outputs": [
    {
     "name": "stdout",
     "output_type": "stream",
     "text": [
      "Train on 3200 samples, validate on 800 samples\n",
      "Epoch 1/10\n",
      " - 44s - loss: 0.4947 - acc: 0.8191 - val_loss: 0.4090 - val_acc: 0.8575\n",
      "Epoch 2/10\n",
      " - 38s - loss: 0.4150 - acc: 0.8478 - val_loss: 0.4074 - val_acc: 0.8575\n",
      "Epoch 3/10\n",
      " - 38s - loss: 0.3014 - acc: 0.8528 - val_loss: 0.5439 - val_acc: 0.8550\n",
      "Epoch 4/10\n",
      " - 38s - loss: 0.1241 - acc: 0.9528 - val_loss: 0.6736 - val_acc: 0.8263\n",
      "Epoch 5/10\n",
      " - 37s - loss: 0.0458 - acc: 0.9866 - val_loss: 0.9496 - val_acc: 0.7850\n",
      "Epoch 6/10\n",
      " - 37s - loss: 0.0088 - acc: 0.9988 - val_loss: 1.5104 - val_acc: 0.8313\n",
      "Epoch 7/10\n",
      " - 37s - loss: 0.0038 - acc: 0.9988 - val_loss: 1.6792 - val_acc: 0.8125\n",
      "Epoch 8/10\n",
      " - 37s - loss: 0.0018 - acc: 1.0000 - val_loss: 1.8458 - val_acc: 0.8413\n",
      "Epoch 9/10\n",
      " - 38s - loss: 0.0081 - acc: 0.9984 - val_loss: 1.6535 - val_acc: 0.8187\n",
      "Epoch 10/10\n",
      " - 38s - loss: 0.0036 - acc: 0.9988 - val_loss: 1.5266 - val_acc: 0.8037\n"
     ]
    },
    {
     "data": {
      "text/plain": [
       "<keras.callbacks.History at 0x1ea55c4d9e8>"
      ]
     },
     "execution_count": 101,
     "metadata": {},
     "output_type": "execute_result"
    }
   ],
   "source": [
    "model_3.fit([padded_train_essay, x_train_ohe],y_train, epochs=10, batch_size=128, verbose=2, validation_data=([padded_cv_essay, x_cv_ohe], y_cv))"
   ]
  }
 ],
 "metadata": {
  "kernelspec": {
   "display_name": "Python 3",
   "language": "python",
   "name": "python3"
  },
  "language_info": {
   "codemirror_mode": {
    "name": "ipython",
    "version": 3
   },
   "file_extension": ".py",
   "mimetype": "text/x-python",
   "name": "python",
   "nbconvert_exporter": "python",
   "pygments_lexer": "ipython3",
   "version": "3.6.4"
  }
 },
 "nbformat": 4,
 "nbformat_minor": 2
}
